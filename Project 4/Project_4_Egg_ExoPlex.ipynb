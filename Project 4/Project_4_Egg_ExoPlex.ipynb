{
  "cells": [
    {
      "cell_type": "markdown",
      "metadata": {
        "id": "view-in-github",
        "colab_type": "text"
      },
      "source": [
        "<a href=\"https://colab.research.google.com/github/jennabittner/ASTRON-5205/blob/main/Project_4_Egg_ExoPlex.ipynb\" target=\"_parent\"><img src=\"https://colab.research.google.com/assets/colab-badge.svg\" alt=\"Open In Colab\"/></a>"
      ]
    },
    {
      "cell_type": "code",
      "execution_count": null,
      "metadata": {
        "colab": {
          "base_uri": "https://localhost:8080/"
        },
        "id": "xUMfmQOuy4HX",
        "outputId": "3b43448a-0e44-4309-b23d-563a232e662e"
      },
      "outputs": [
        {
          "output_type": "stream",
          "name": "stdout",
          "text": [
            "Mounted at /content/drive\n"
          ]
        }
      ],
      "source": [
        "from google.colab import drive\n",
        "drive.mount('/content/drive', force_remount=True)"
      ]
    },
    {
      "cell_type": "code",
      "execution_count": null,
      "metadata": {
        "colab": {
          "base_uri": "https://localhost:8080/"
        },
        "id": "j9hR-fMozArj",
        "outputId": "670c000d-aea0-4077-bf95-df6f03a4eea3"
      },
      "outputs": [
        {
          "output_type": "stream",
          "name": "stdout",
          "text": [
            "/content/drive/.shortcut-targets-by-id/1CklpevfgBa21F5mnzM59y_7t9YrIFMED/ExoPlex_dist\n"
          ]
        }
      ],
      "source": [
        "cd /content/drive/MyDrive/ExoPlex_dist/"
      ]
    },
    {
      "cell_type": "markdown",
      "metadata": {
        "id": "xQfU9we_xUSf"
      },
      "source": [
        "## Here change X to your group number!\n"
      ]
    },
    {
      "cell_type": "code",
      "execution_count": null,
      "metadata": {
        "colab": {
          "base_uri": "https://localhost:8080/"
        },
        "id": "zmzxM2ZxzSYt",
        "outputId": "2ce0fac9-b6c1-4ca0-a2be-6c56aadba34c"
      },
      "outputs": [
        {
          "output_type": "stream",
          "name": "stdout",
          "text": [
            "/content/drive/.shortcut-targets-by-id/1CklpevfgBa21F5mnzM59y_7t9YrIFMED/ExoPlex_dist/Group_4\n"
          ]
        }
      ],
      "source": [
        "cd Group_4/"
      ]
    },
    {
      "cell_type": "code",
      "execution_count": null,
      "metadata": {
        "colab": {
          "base_uri": "https://localhost:8080/"
        },
        "id": "3GyFTBTzevJR",
        "outputId": "80075fe8-2557-4ec1-aed0-60cf9fed58a4"
      },
      "outputs": [
        {
          "output_type": "stream",
          "name": "stdout",
          "text": [
            "total 4085\n",
            "-rw------- 1 root root   6573 Mar 17  2021  single_phase.py\n",
            "-rw------- 1 root root   9053 Mar 17  2021  MR_Trappist.py\n",
            "-rw------- 1 root root   6888 Mar 17  2021  example_by_radius.py\n",
            "-rw------- 1 root root   6476 Mar 17  2021  example_by_mass.py\n",
            "-rw------- 1 root root    500 Mar 17  2021  build.log\n",
            "-rw------- 1 root root      0 Apr  9  2022  1,1_0,8_0,07_0,09_0,01_0,0_MANTLE.dat\n",
            "-rw------- 1 root root 267500 Mar 16 20:06 'high_wFEO_Radius_1.06(1).tsv'\n",
            "-rw------- 1 root root  64852 Mar 16 20:06 'CRF(1).png'\n",
            "-rw------- 1 root root    176 Apr 14 03:46  high_wFEO_Radius_0.42.gsheet\n",
            "-rw------- 1 root root   7533 Apr 14 18:40  Group_X.py\n",
            "-rw------- 1 root root 267984 Apr 15 17:29  high_wFEO_Radius_1.00.tsv\n",
            "-rw------- 1 root root 266544 Apr 15 17:30  high_wFEO_Radius_0.52.tsv\n",
            "-rw------- 1 root root 266257 Apr 15 17:30  high_wFEO_Radius_0.42.tsv\n",
            "-rw------- 1 root root 266335 Apr 15 17:31  high_wFEO_Radius_1.18.tsv\n",
            "-rw------- 1 root root 268083 Apr 15 17:31  high_wFEO_Radius_1.16.tsv\n",
            "-rw------- 1 root root 268019 Apr 15 17:32  high_wFEO_Radius_1.06.tsv\n",
            "-rw------- 1 root root 267364 Apr 15 17:35  high_wFEO_Radius_1.13.tsv\n",
            "-rw------- 1 root root 268044 Apr 15 18:58  high_wFEO_Radius_1.07.tsv\n",
            "-rw------- 1 root root 268083 Apr 15 19:03  high_wFEO_Radius_1.12.tsv\n",
            "-rw------- 1 root root 267929 Apr 15 19:40  high_wFEO_Radius_1.08.tsv\n",
            "-rw------- 1 root root 268010 Apr 15 19:41  high_wFEO_Radius_1.10.tsv\n",
            "-rw------- 1 root root 268005 Apr 15 19:50  high_wFEO_Radius_1.09.tsv\n",
            "-rw------- 1 root root 267167 Apr 15 20:07  high_wFEO_Radius_1.02.tsv\n",
            "-rw------- 1 root root 267274 Apr 15 20:43  high_wFEO_Radius_1.11.tsv\n",
            "-rw------- 1 root root  62080 Apr 15 20:43  CRF.png\n"
          ]
        }
      ],
      "source": [
        "!ls -lrt"
      ]
    },
    {
      "cell_type": "markdown",
      "metadata": {
        "id": "GYzZWIxlEoXq"
      },
      "source": [
        "## **WARMUP #1**\n",
        "# Calculate radius of Earth, Mars, and Mercury given mass. Compare to actual values."
      ]
    },
    {
      "cell_type": "code",
      "execution_count": null,
      "metadata": {
        "colab": {
          "base_uri": "https://localhost:8080/"
        },
        "id": "Byb2ppgSe21E",
        "outputId": "6c60fc0b-1a38-470c-d36a-669c0ad98167"
      },
      "outputs": [
        {
          "output_type": "stream",
          "name": "stdout",
          "text": [
            "\n",
            "Core composition:  {'Fe': np.float64(100.0), 'Si': np.float64(0.0), 'O': np.float64(0.0), 'S': np.float64(0.0)}\n",
            "Mantle composition:  {'FeO': np.float64(0.0), 'SiO2': np.float64(52.55497015), 'MgO': np.float64(39.17101638), 'CaO': np.float64(3.81493827), 'Al2O3': np.float64(4.45907521)}\n",
            "Mantle Fe# -0.0\n",
            "Core Mass Percent =  32.816\n",
            "\n",
            "Your closest grid filename is:  0.07CaMg_0.00FeMg_0.09AlMg_0.9SiMg_0.0NaMg_0.00Fe_U/LM_results.txt\n",
            "\n",
            "\n",
            "Core composition:  {'Fe': np.float64(100.0), 'Si': np.float64(0.0), 'O': np.float64(0.0), 'S': np.float64(0.0)}\n",
            "Mantle composition:  {'FeO': np.float64(0.0), 'SiO2': np.float64(52.55497015), 'MgO': np.float64(39.17101638), 'CaO': np.float64(3.81493827), 'Al2O3': np.float64(4.45907521)}\n",
            "Mantle Fe# -0.0\n",
            "Core Mass Percent =  32.816\n",
            "\n",
            "The Upper mantle .tab already exists, please wait briefly for solution\n",
            "\n",
            "../Solutions_Small/0.07CaMg_0.00FeMg_0.09AlMg_0.9SiMg_0.0NaMg_0.00Fe\n",
            "The Lower mantle .tab already exists, please wait briefly for solution\n",
            "\n",
            "iteration # 1\n",
            "iteration # 2\n",
            "iteration # 3\n",
            "iteration # 4\n",
            "iteration # 5\n",
            "iteration # 6\n",
            "iteration # 7\n",
            "iteration # 8\n",
            "iteration # 9\n",
            "iteration # 10\n",
            "iteration # 11\n",
            "iteration # 12\n",
            "iteration # 13\n",
            "iteration # 14\n",
            "iteration # 15\n",
            "\n",
            "Mass =  1.000 Earth masses\n",
            "Radius =  0.999 Earth radii\n",
            "Core Mass Fraction =  32.95\n",
            "Core Radius Fraction =  53.02\n",
            "CMB Pressure =  141.56 GPa\n",
            "number of oceans: 0.00\n",
            "\n",
            "Detailed data file written to: high_wFEO_Radius_1.00.txt\n",
            "\n",
            "Figure(1200x1000)\n"
          ]
        }
      ],
      "source": [
        "# Earth radius calculation\n",
        "# mass in kg\n",
        "\n",
        "# FeMg = iron-to-magnesium molar ratio in the bulk silicate Earth (mantle); lower = more Mg-rich, higher = more Fe-rich\n",
        "# mol_frac_Fe_mantle: molar fraction of iron in the mantle; higher = more Fe stays in mantle reducing core size, lower = more Fe is metallic and sinks to core\n",
        "# wt_frac_Si_core: weight fraction of silicon in the core, 0.0 means core is modeled as pure Fe\n",
        "# SiMg: silicon-to-magnesium molar ratio; higher = more silicate material, lower = more magnesium rich\n",
        "\n",
        "# !python Group_4.py --mass=5.97E24 --FeMg=0.9 --mol_frac_Fe_mantle=0.01 --wt_frac_Si_core=0.0 --SiMg=1.1\n",
        "\n",
        "# Since the default is solar compositions we only need to have the mass as the parameter\n",
        "\n",
        "!python Group_X.py --mass=1.0\n"
      ]
    },
    {
      "cell_type": "code",
      "execution_count": null,
      "metadata": {
        "colab": {
          "base_uri": "https://localhost:8080/"
        },
        "id": "i7gbpwp_Pvmi",
        "outputId": "93329298-7c74-44b1-8b93-d01137cac637"
      },
      "outputs": [
        {
          "output_type": "stream",
          "name": "stdout",
          "text": [
            "\n",
            "Core composition:  {'Fe': np.float64(100.0), 'Si': np.float64(0.0), 'O': np.float64(0.0), 'S': np.float64(0.0)}\n",
            "Mantle composition:  {'FeO': np.float64(0.0), 'SiO2': np.float64(52.55497015), 'MgO': np.float64(39.17101638), 'CaO': np.float64(3.81493827), 'Al2O3': np.float64(4.45907521)}\n",
            "Mantle Fe# -0.0\n",
            "Core Mass Percent =  32.816\n",
            "\n",
            "Your closest grid filename is:  0.07CaMg_0.00FeMg_0.09AlMg_0.9SiMg_0.0NaMg_0.00Fe_U/LM_results.txt\n",
            "\n",
            "\n",
            "Core composition:  {'Fe': np.float64(100.0), 'Si': np.float64(0.0), 'O': np.float64(0.0), 'S': np.float64(0.0)}\n",
            "Mantle composition:  {'FeO': np.float64(0.0), 'SiO2': np.float64(52.55497015), 'MgO': np.float64(39.17101638), 'CaO': np.float64(3.81493827), 'Al2O3': np.float64(4.45907521)}\n",
            "Mantle Fe# -0.0\n",
            "Core Mass Percent =  32.816\n",
            "\n",
            "The Upper mantle .tab already exists, please wait briefly for solution\n",
            "\n",
            "../Solutions_Small/0.07CaMg_0.00FeMg_0.09AlMg_0.9SiMg_0.0NaMg_0.00Fe\n",
            "The Lower mantle .tab already exists, please wait briefly for solution\n",
            "\n",
            "iteration # 1\n",
            "iteration # 2\n",
            "iteration # 3\n",
            "iteration # 4\n",
            "iteration # 5\n",
            "iteration # 6\n",
            "iteration # 7\n",
            "iteration # 8\n",
            "iteration # 9\n",
            "iteration # 10\n",
            "iteration # 11\n",
            "\n",
            "Mass =  0.107 Earth masses\n",
            "Radius =  0.520 Earth radii\n",
            "Core Mass Fraction =  32.95\n",
            "Core Radius Fraction =  54.67\n",
            "CMB Pressure =  20.35 GPa\n",
            "number of oceans: 0.00\n",
            "\n",
            "Detailed data file written to: high_wFEO_Radius_0.52.txt\n",
            "\n",
            "Figure(1200x1000)\n"
          ]
        }
      ],
      "source": [
        "# Mars radius calculation\n",
        "!python Group_X.py --mass=0.107\n"
      ]
    },
    {
      "cell_type": "code",
      "execution_count": null,
      "metadata": {
        "colab": {
          "base_uri": "https://localhost:8080/"
        },
        "id": "XssBCfMiSWeE",
        "outputId": "c73c0bc5-6c91-42cb-cace-d234036a528e"
      },
      "outputs": [
        {
          "output_type": "stream",
          "name": "stdout",
          "text": [
            "\n",
            "Core composition:  {'Fe': np.float64(100.0), 'Si': np.float64(0.0), 'O': np.float64(0.0), 'S': np.float64(0.0)}\n",
            "Mantle composition:  {'FeO': np.float64(0.0), 'SiO2': np.float64(52.55497015), 'MgO': np.float64(39.17101638), 'CaO': np.float64(3.81493827), 'Al2O3': np.float64(4.45907521)}\n",
            "Mantle Fe# -0.0\n",
            "Core Mass Percent =  32.816\n",
            "\n",
            "Your closest grid filename is:  0.07CaMg_0.00FeMg_0.09AlMg_0.9SiMg_0.0NaMg_0.00Fe_U/LM_results.txt\n",
            "\n",
            "\n",
            "Core composition:  {'Fe': np.float64(100.0), 'Si': np.float64(0.0), 'O': np.float64(0.0), 'S': np.float64(0.0)}\n",
            "Mantle composition:  {'FeO': np.float64(0.0), 'SiO2': np.float64(52.55497015), 'MgO': np.float64(39.17101638), 'CaO': np.float64(3.81493827), 'Al2O3': np.float64(4.45907521)}\n",
            "Mantle Fe# -0.0\n",
            "Core Mass Percent =  32.816\n",
            "\n",
            "The Upper mantle .tab already exists, please wait briefly for solution\n",
            "\n",
            "../Solutions_Small/0.07CaMg_0.00FeMg_0.09AlMg_0.9SiMg_0.0NaMg_0.00Fe\n",
            "The Lower mantle .tab already exists, please wait briefly for solution\n",
            "\n",
            "iteration # 1\n",
            "iteration # 2\n",
            "iteration # 3\n",
            "iteration # 4\n",
            "iteration # 5\n",
            "iteration # 6\n",
            "iteration # 7\n",
            "iteration # 8\n",
            "\n",
            "Mass =  0.055 Earth masses\n",
            "Radius =  0.421 Earth radii\n",
            "Core Mass Fraction =  32.95\n",
            "Core Radius Fraction =  55.10\n",
            "CMB Pressure =  12.23 GPa\n",
            "number of oceans: 0.00\n",
            "\n",
            "Detailed data file written to: high_wFEO_Radius_0.42.txt\n",
            "\n",
            "Figure(1200x1000)\n"
          ]
        }
      ],
      "source": [
        "# Mercury radius calculation\n",
        "!python Group_X.py --mass=0.055\n"
      ]
    },
    {
      "cell_type": "markdown",
      "metadata": {
        "id": "bPV_G5IfYHEj"
      },
      "source": [
        "## **WARMUP #2**"
      ]
    },
    {
      "cell_type": "code",
      "execution_count": null,
      "metadata": {
        "colab": {
          "base_uri": "https://localhost:8080/"
        },
        "id": "qbXOLw3tYQEj",
        "outputId": "66780b49-ebbf-407b-9231-994d931cfb24"
      },
      "outputs": [
        {
          "output_type": "stream",
          "name": "stdout",
          "text": [
            "\n",
            "Core composition:  {'Fe': np.float64(100.0), 'Si': np.float64(0.0), 'O': np.float64(0.0), 'S': np.float64(0.0)}\n",
            "Mantle composition:  {'FeO': np.float64(0.0), 'SiO2': np.float64(52.55497015), 'MgO': np.float64(39.17101638), 'CaO': np.float64(3.81493827), 'Al2O3': np.float64(4.45907521)}\n",
            "Mantle Fe# -0.0\n",
            "Core Mass Percent =  32.816\n",
            "\n",
            "Your closest grid filename is:  0.07CaMg_0.00FeMg_0.09AlMg_0.9SiMg_0.0NaMg_0.00Fe_U/LM_results.txt\n",
            "\n",
            "\n",
            "Core composition:  {'Fe': np.float64(100.0), 'Si': np.float64(0.0), 'O': np.float64(0.0), 'S': np.float64(0.0)}\n",
            "Mantle composition:  {'FeO': np.float64(0.0), 'SiO2': np.float64(52.55497015), 'MgO': np.float64(39.17101638), 'CaO': np.float64(3.81493827), 'Al2O3': np.float64(4.45907521)}\n",
            "Mantle Fe# -0.0\n",
            "Core Mass Percent =  32.816\n",
            "\n",
            "The Upper mantle .tab already exists, please wait briefly for solution\n",
            "\n",
            "../Solutions_Small/0.07CaMg_0.00FeMg_0.09AlMg_0.9SiMg_0.0NaMg_0.00Fe\n",
            "The Lower mantle .tab already exists, please wait briefly for solution\n",
            "\n",
            "iteration # 1\n",
            "iteration # 2\n",
            "270.3278231526347 9110.93312313577\n",
            "LM Rho Outside of range!\n"
          ]
        }
      ],
      "source": [
        "# using CoRoT 7B mass\n",
        "# output should be 1.528\n",
        "!python Group_X.py --mass=6.056\n"
      ]
    },
    {
      "cell_type": "markdown",
      "metadata": {
        "id": "qaJsfpzEZLZw"
      },
      "source": [
        "We got an LM Rho Outside of range!\n",
        "FeMg = 0.9 (default), --mol_frac_Fe_mantle=0.01 (default — meaning almost all Fe goes to the core)\n",
        "\n",
        "The LM Rho Outside of Range means that the model failed for the lower mantle density. Likely because the input mass of 6.056 Earth masses results in very high pressures and the grid files for density vs pressure don't extend to that extreme case.\n",
        "\n"
      ]
    },
    {
      "cell_type": "markdown",
      "metadata": {
        "id": "c5sdJw5wBLXQ"
      },
      "source": [
        "# Trying new exoplanet: Trappist 1b"
      ]
    },
    {
      "cell_type": "code",
      "execution_count": null,
      "metadata": {
        "colab": {
          "base_uri": "https://localhost:8080/"
        },
        "id": "7RI1SiFQa7nw",
        "outputId": "533dde36-b2a3-4726-b010-8d39d2e2cc5e"
      },
      "outputs": [
        {
          "output_type": "stream",
          "name": "stdout",
          "text": [
            "\n",
            "Core composition:  {'Fe': np.float64(100.0), 'Si': np.float64(0.0), 'O': np.float64(0.0), 'S': np.float64(0.0)}\n",
            "Mantle composition:  {'FeO': np.float64(0.0), 'SiO2': np.float64(52.55497015), 'MgO': np.float64(39.17101638), 'CaO': np.float64(3.81493827), 'Al2O3': np.float64(4.45907521)}\n",
            "Mantle Fe# -0.0\n",
            "Core Mass Percent =  32.816\n",
            "\n",
            "Your closest grid filename is:  0.07CaMg_0.00FeMg_0.09AlMg_0.9SiMg_0.0NaMg_0.00Fe_U/LM_results.txt\n",
            "\n",
            "\n",
            "Core composition:  {'Fe': np.float64(100.0), 'Si': np.float64(0.0), 'O': np.float64(0.0), 'S': np.float64(0.0)}\n",
            "Mantle composition:  {'FeO': np.float64(0.0), 'SiO2': np.float64(52.55497015), 'MgO': np.float64(39.17101638), 'CaO': np.float64(3.81493827), 'Al2O3': np.float64(4.45907521)}\n",
            "Mantle Fe# -0.0\n",
            "Core Mass Percent =  32.816\n",
            "\n",
            "The Upper mantle .tab already exists, please wait briefly for solution\n",
            "\n",
            "../Solutions_Small/0.07CaMg_0.00FeMg_0.09AlMg_0.9SiMg_0.0NaMg_0.00Fe\n",
            "The Lower mantle .tab already exists, please wait briefly for solution\n",
            "\n",
            "iteration # 1\n",
            "iteration # 2\n",
            "iteration # 3\n",
            "iteration # 4\n",
            "iteration # 5\n",
            "iteration # 6\n",
            "iteration # 7\n",
            "iteration # 8\n",
            "iteration # 9\n",
            "iteration # 10\n",
            "iteration # 11\n",
            "iteration # 12\n",
            "iteration # 13\n",
            "iteration # 14\n",
            "iteration # 15\n",
            "\n",
            "Mass =  1.374 Earth masses\n",
            "Radius =  1.093 Earth radii\n",
            "Core Mass Fraction =  32.95\n",
            "Core Radius Fraction =  52.63\n",
            "CMB Pressure =  189.98 GPa\n",
            "number of oceans: 0.00\n",
            "\n",
            "Detailed data file written to: high_wFEO_Radius_1.09.txt\n",
            "\n",
            "Figure(1200x1000)\n"
          ]
        }
      ],
      "source": [
        "# mass = 1.374 Earth masses, should produce radius 1.116 Earth radii\n",
        "!python Group_X.py --mass=1.374\n"
      ]
    },
    {
      "cell_type": "code",
      "execution_count": null,
      "metadata": {
        "colab": {
          "base_uri": "https://localhost:8080/"
        },
        "id": "WfcYp7e4_Qcy",
        "outputId": "e3a96628-2a3a-499f-d8cf-f96c0bd96715"
      },
      "outputs": [
        {
          "output_type": "stream",
          "name": "stdout",
          "text": [
            "\n",
            "Core composition:  {'Fe': np.float64(100.0), 'Si': np.float64(0.0), 'O': np.float64(0.0), 'S': np.float64(0.0)}\n",
            "Mantle composition:  {'FeO': np.float64(15.86177045), 'SiO2': np.float64(44.21882143), 'MgO': np.float64(32.95779968), 'CaO': np.float64(3.20982151), 'Al2O3': np.float64(3.75178693)}\n",
            "Mantle Fe# 0.21259842519685035\n",
            "Core Mass Percent =  22.341\n",
            "\n",
            "Your closest grid filename is:  0.07CaMg_0.00FeMg_0.09AlMg_0.9SiMg_0.0NaMg_0.15Fe_U/LM_results.txt\n",
            "\n",
            "\n",
            "Core composition:  {'Fe': np.float64(100.0), 'Si': np.float64(0.0), 'O': np.float64(0.0), 'S': np.float64(0.0)}\n",
            "Mantle composition:  {'FeO': np.float64(15.86177045), 'SiO2': np.float64(44.21882143), 'MgO': np.float64(32.95779968), 'CaO': np.float64(3.20982151), 'Al2O3': np.float64(3.75178693)}\n",
            "Mantle Fe# 0.21259842519685035\n",
            "Core Mass Percent =  22.341\n",
            "\n",
            "The Upper mantle .tab already exists, please wait briefly for solution\n",
            "\n",
            "../Solutions_Small/0.07CaMg_0.00FeMg_0.09AlMg_0.9SiMg_0.0NaMg_0.15Fe\n",
            "The Lower mantle .tab already exists, please wait briefly for solution\n",
            "\n",
            "iteration # 1\n",
            "iteration # 2\n",
            "iteration # 3\n",
            "iteration # 4\n",
            "iteration # 5\n",
            "iteration # 6\n",
            "iteration # 7\n",
            "iteration # 8\n",
            "iteration # 9\n",
            "iteration # 10\n",
            "iteration # 11\n",
            "iteration # 12\n",
            "iteration # 13\n",
            "iteration # 14\n",
            "iteration # 15\n",
            "\n",
            "Mass =  1.374 Earth masses\n",
            "Radius =  1.100 Earth radii\n",
            "Core Mass Fraction =  22.50\n",
            "Core Radius Fraction =  46.07\n",
            "CMB Pressure =  218.37 GPa\n",
            "number of oceans: 0.00\n",
            "\n",
            "Detailed data file written to: high_wFEO_Radius_1.10.txt\n",
            "\n",
            "Figure(1200x1000)\n"
          ]
        }
      ],
      "source": [
        "# FeMg = 0.9, for every 1 Mg atom there are 0.9 Fe atoms\n",
        "# mol_frac_Fe_mantle = 0.3, 30% of all Fe ends up in mantle --> more Feo, results in smaller core, larger mantle, lower bulk density\n",
        "\n",
        "!python Group_X.py --mass=1.374 --FeMg=0.9 --mol_frac_Fe_mantle=0.3\n"
      ]
    },
    {
      "cell_type": "markdown",
      "metadata": {
        "id": "nZkccjW8ChaM"
      },
      "source": [
        "By adding more Fe into the mantle via the mol_frac_Fe_mantle, the core is smaller and the mantle is more oxidized and less dense. \"Puffier\" planet, larger radius than Earth even though it's only 37% more massive.\n",
        "\n",
        "**Core mass fraction** is 22.50%. This means that 22.5% of the planet's mass is in the core. For reference, Earth's core mass fraction is 32.5%, so this model planet has much smaller core than Earth.\n",
        "\n",
        "**Core radius fraction** is 46.07%. This is smaller than Earth's core, which has radius fraction if ~54%. Small core = less dense = puffier planet.\n",
        "\n"
      ]
    },
    {
      "cell_type": "markdown",
      "metadata": {
        "id": "qd2DIJ4dG1e2"
      },
      "source": [
        "I am going to run a bunch of different test runs for changing FeMg and seeing how the structure of the planet changes.  "
      ]
    },
    {
      "cell_type": "code",
      "execution_count": null,
      "metadata": {
        "colab": {
          "base_uri": "https://localhost:8080/"
        },
        "id": "XtODf0IiHj-G",
        "outputId": "b95100f5-ef45-4b5d-d8be-e8eda4b3374c"
      },
      "outputs": [
        {
          "output_type": "stream",
          "name": "stdout",
          "text": [
            "\n",
            "Core composition:  {'Fe': np.float64(100.0), 'Si': np.float64(0.0), 'O': np.float64(0.0), 'S': np.float64(0.0)}\n",
            "Mantle composition:  {'FeO': np.float64(0.0), 'SiO2': np.float64(52.55497015), 'MgO': np.float64(39.17101638), 'CaO': np.float64(3.81493827), 'Al2O3': np.float64(4.45907521)}\n",
            "Mantle Fe# -0.0\n",
            "Core Mass Percent =  0.000\n",
            "\n",
            "Your closest grid filename is:  0.07CaMg_0.00FeMg_0.09AlMg_0.9SiMg_0.0NaMg_0.00Fe_U/LM_results.txt\n",
            "\n",
            "\n",
            "Core composition:  {'Fe': np.float64(100.0), 'Si': np.float64(0.0), 'O': np.float64(0.0), 'S': np.float64(0.0)}\n",
            "Mantle composition:  {'FeO': np.float64(0.0), 'SiO2': np.float64(52.55497015), 'MgO': np.float64(39.17101638), 'CaO': np.float64(3.81493827), 'Al2O3': np.float64(4.45907521)}\n",
            "Mantle Fe# -0.0\n",
            "Core Mass Percent =  0.000\n",
            "\n",
            "The Upper mantle .tab already exists, please wait briefly for solution\n",
            "\n",
            "../Solutions_Small/0.07CaMg_0.00FeMg_0.09AlMg_0.9SiMg_0.0NaMg_0.00Fe\n",
            "The Lower mantle .tab already exists, please wait briefly for solution\n",
            "\n",
            "iteration # 1\n",
            " lsoda--  warning..internal t (=r1) and h (=r2) are\u0000\u0000\n",
            "       such that in the machine, t + h = t on the next step  \n",
            "       (h = step size). solver will continue anyway\u0000\u0000\n",
            "      in above,  r1 =  0.1043525349248D+07   r2 =  0.4103920310895D-10\n",
            " lsoda--  warning..internal t (=r1) and h (=r2) are\u0000\u0000\n",
            "       such that in the machine, t + h = t on the next step  \n",
            "       (h = step size). solver will continue anyway\u0000\u0000\n",
            "      in above,  r1 =  0.1043525349248D+07   r2 =  0.4103920310895D-10\n",
            "iteration # 2\n",
            " lsoda--  warning..internal t (=r1) and h (=r2) are\u0000\u0000\n",
            "       such that in the machine, t + h = t on the next step  \n",
            "       (h = step size). solver will continue anyway\u0000\u0000\n",
            "      in above,  r1 =  0.9148160387901D+06   r2 =  0.3596702706515D-10\n",
            " lsoda--  warning..internal t (=r1) and h (=r2) are\u0000\u0000\n",
            "       such that in the machine, t + h = t on the next step  \n",
            "       (h = step size). solver will continue anyway\u0000\u0000\n",
            "      in above,  r1 =  0.9148160387901D+06   r2 =  0.3596702706515D-10\n",
            "iteration # 3\n",
            " lsoda--  warning..internal t (=r1) and h (=r2) are\u0000\u0000\n",
            "       such that in the machine, t + h = t on the next step  \n",
            "       (h = step size). solver will continue anyway\u0000\u0000\n",
            "      in above,  r1 =  0.8818701432482D+06   r2 =  0.3468818569012D-10\n",
            " lsoda--  warning..internal t (=r1) and h (=r2) are\u0000\u0000\n",
            "       such that in the machine, t + h = t on the next step  \n",
            "       (h = step size). solver will continue anyway\u0000\u0000\n",
            "      in above,  r1 =  0.8818701432482D+06   r2 =  0.3468818569012D-10\n",
            "iteration # 4\n",
            " lsoda--  warning..internal t (=r1) and h (=r2) are\u0000\u0000\n",
            "       such that in the machine, t + h = t on the next step  \n",
            "       (h = step size). solver will continue anyway\u0000\u0000\n",
            "      in above,  r1 =  0.8739138654874D+06   r2 =  0.3435846606903D-10\n",
            " lsoda--  warning..internal t (=r1) and h (=r2) are\u0000\u0000\n",
            "       such that in the machine, t + h = t on the next step  \n",
            "       (h = step size). solver will continue anyway\u0000\u0000\n",
            "      in above,  r1 =  0.8739138654874D+06   r2 =  0.3435846606903D-10\n",
            "iteration # 5\n",
            " lsoda--  warning..internal t (=r1) and h (=r2) are\u0000\u0000\n",
            "       such that in the machine, t + h = t on the next step  \n",
            "       (h = step size). solver will continue anyway\u0000\u0000\n",
            "      in above,  r1 =  0.8716899228731D+06   r2 =  0.3427180977595D-10\n",
            " lsoda--  warning..internal t (=r1) and h (=r2) are\u0000\u0000\n",
            "       such that in the machine, t + h = t on the next step  \n",
            "       (h = step size). solver will continue anyway\u0000\u0000\n",
            "      in above,  r1 =  0.8716899228731D+06   r2 =  0.3427180977595D-10\n",
            "iteration # 6\n",
            " lsoda--  warning..internal t (=r1) and h (=r2) are\u0000\u0000\n",
            "       such that in the machine, t + h = t on the next step  \n",
            "       (h = step size). solver will continue anyway\u0000\u0000\n",
            "      in above,  r1 =  0.8710683184981D+06   r2 =  0.3424488737888D-10\n",
            " lsoda--  warning..internal t (=r1) and h (=r2) are\u0000\u0000\n",
            "       such that in the machine, t + h = t on the next step  \n",
            "       (h = step size). solver will continue anyway\u0000\u0000\n",
            "      in above,  r1 =  0.8710683184981D+06   r2 =  0.3424488737888D-10\n",
            "iteration # 7\n",
            " lsoda--  warning..internal t (=r1) and h (=r2) are\u0000\u0000\n",
            "       such that in the machine, t + h = t on the next step  \n",
            "       (h = step size). solver will continue anyway\u0000\u0000\n",
            "      in above,  r1 =  0.8708953949407D+06   r2 =  0.3423822085470D-10\n",
            " lsoda--  warning..internal t (=r1) and h (=r2) are\u0000\u0000\n",
            "       such that in the machine, t + h = t on the next step  \n",
            "       (h = step size). solver will continue anyway\u0000\u0000\n",
            "      in above,  r1 =  0.8708953949407D+06   r2 =  0.3423822085470D-10\n",
            "iteration # 8\n",
            " lsoda--  warning..internal t (=r1) and h (=r2) are\u0000\u0000\n",
            "       such that in the machine, t + h = t on the next step  \n",
            "       (h = step size). solver will continue anyway\u0000\u0000\n",
            "      in above,  r1 =  0.8708473614027D+06   r2 =  0.3423587836506D-10\n",
            " lsoda--  warning..internal t (=r1) and h (=r2) are\u0000\u0000\n",
            "       such that in the machine, t + h = t on the next step  \n",
            "       (h = step size). solver will continue anyway\u0000\u0000\n",
            "      in above,  r1 =  0.8708473614027D+06   r2 =  0.3423587836506D-10\n",
            "iteration # 9\n",
            " lsoda--  warning..internal t (=r1) and h (=r2) are\u0000\u0000\n",
            "       such that in the machine, t + h = t on the next step  \n",
            "       (h = step size). solver will continue anyway\u0000\u0000\n",
            "      in above,  r1 =  0.8708341140972D+06   r2 =  0.3423536193611D-10\n",
            " lsoda--  warning..internal t (=r1) and h (=r2) are\u0000\u0000\n",
            "       such that in the machine, t + h = t on the next step  \n",
            "       (h = step size). solver will continue anyway\u0000\u0000\n",
            "      in above,  r1 =  0.8708341140972D+06   r2 =  0.3423536193611D-10\n",
            "iteration # 10\n",
            " lsoda--  warning..internal t (=r1) and h (=r2) are\u0000\u0000\n",
            "       such that in the machine, t + h = t on the next step  \n",
            "       (h = step size). solver will continue anyway\u0000\u0000\n",
            "      in above,  r1 =  0.8708304661377D+06   r2 =  0.3423522278181D-10\n",
            " lsoda--  warning..internal t (=r1) and h (=r2) are\u0000\u0000\n",
            "       such that in the machine, t + h = t on the next step  \n",
            "       (h = step size). solver will continue anyway\u0000\u0000\n",
            "      in above,  r1 =  0.8708304661377D+06   r2 =  0.3423522278181D-10\n",
            "iteration # 11\n",
            " lsoda--  warning..internal t (=r1) and h (=r2) are\u0000\u0000\n",
            "       such that in the machine, t + h = t on the next step  \n",
            "       (h = step size). solver will continue anyway\u0000\u0000\n",
            "      in above,  r1 =  0.8708294238031D+06   r2 =  0.3423518209441D-10\n",
            " lsoda--  warning..internal t (=r1) and h (=r2) are\u0000\u0000\n",
            "       such that in the machine, t + h = t on the next step  \n",
            "       (h = step size). solver will continue anyway\u0000\u0000\n",
            "      in above,  r1 =  0.8708294238031D+06   r2 =  0.3423518209441D-10\n",
            "iteration # 12\n",
            " lsoda--  warning..internal t (=r1) and h (=r2) are\u0000\u0000\n",
            "       such that in the machine, t + h = t on the next step  \n",
            "       (h = step size). solver will continue anyway\u0000\u0000\n",
            "      in above,  r1 =  0.8708291524672D+06   r2 =  0.3423517143111D-10\n",
            " lsoda--  warning..internal t (=r1) and h (=r2) are\u0000\u0000\n",
            "       such that in the machine, t + h = t on the next step  \n",
            "       (h = step size). solver will continue anyway\u0000\u0000\n",
            "      in above,  r1 =  0.8708291524672D+06   r2 =  0.3423517143111D-10\n",
            "iteration # 13\n",
            " lsoda--  warning..internal t (=r1) and h (=r2) are\u0000\u0000\n",
            "       such that in the machine, t + h = t on the next step  \n",
            "       (h = step size). solver will continue anyway\u0000\u0000\n",
            "      in above,  r1 =  0.8708290585648D+06   r2 =  0.3423516782755D-10\n",
            " lsoda--  warning..internal t (=r1) and h (=r2) are\u0000\u0000\n",
            "       such that in the machine, t + h = t on the next step  \n",
            "       (h = step size). solver will continue anyway\u0000\u0000\n",
            "      in above,  r1 =  0.8708290585648D+06   r2 =  0.3423516782755D-10\n",
            "iteration # 14\n",
            " lsoda--  warning..internal t (=r1) and h (=r2) are\u0000\u0000\n",
            "       such that in the machine, t + h = t on the next step  \n",
            "       (h = step size). solver will continue anyway\u0000\u0000\n",
            "      in above,  r1 =  0.8708290371234D+06   r2 =  0.3423516697089D-10\n",
            " lsoda--  warning..internal t (=r1) and h (=r2) are\u0000\u0000\n",
            "       such that in the machine, t + h = t on the next step  \n",
            "       (h = step size). solver will continue anyway\u0000\u0000\n",
            "      in above,  r1 =  0.8708290371234D+06   r2 =  0.3423516697089D-10\n",
            "iteration # 15\n",
            " lsoda--  warning..internal t (=r1) and h (=r2) are\u0000\u0000\n",
            "       such that in the machine, t + h = t on the next step  \n",
            "       (h = step size). solver will continue anyway\u0000\u0000\n",
            "      in above,  r1 =  0.8708290309983D+06   r2 =  0.3423516673230D-10\n",
            " lsoda--  warning..internal t (=r1) and h (=r2) are\u0000\u0000\n",
            "       such that in the machine, t + h = t on the next step  \n",
            "       (h = step size). solver will continue anyway\u0000\u0000\n",
            "      in above,  r1 =  0.8708290309983D+06   r2 =  0.3423516673230D-10\n",
            "\n",
            "Mass =  1.374 Earth masses\n",
            "Radius =  1.181 Earth radii\n",
            "Core Mass Fraction =  0.20\n",
            "Core Radius Fraction =  11.58\n",
            "CMB Pressure =  198.88 GPa\n",
            "number of oceans: 0.00\n",
            "\n",
            "Detailed data file written to: high_wFEO_Radius_1.18.txt\n",
            "\n",
            "Figure(1200x1000)\n"
          ]
        }
      ],
      "source": [
        "!python Group_X.py --mass=1.374 --FeMg=0.0"
      ]
    },
    {
      "cell_type": "code",
      "execution_count": null,
      "metadata": {
        "colab": {
          "base_uri": "https://localhost:8080/"
        },
        "id": "0oxQd9uHHp3x",
        "outputId": "4a8cc50d-ad55-4b72-d352-a19062711af7"
      },
      "outputs": [
        {
          "output_type": "stream",
          "name": "stdout",
          "text": [
            "\n",
            "Core composition:  {'Fe': np.float64(100.0), 'Si': np.float64(0.0), 'O': np.float64(0.0), 'S': np.float64(0.0)}\n",
            "Mantle composition:  {'FeO': np.float64(0.0), 'SiO2': np.float64(52.55497015), 'MgO': np.float64(39.17101638), 'CaO': np.float64(3.81493827), 'Al2O3': np.float64(4.45907521)}\n",
            "Mantle Fe# -0.0\n",
            "Core Mass Percent =  9.792\n",
            "\n",
            "Your closest grid filename is:  0.07CaMg_0.00FeMg_0.09AlMg_0.9SiMg_0.0NaMg_0.00Fe_U/LM_results.txt\n",
            "\n",
            "\n",
            "Core composition:  {'Fe': np.float64(100.0), 'Si': np.float64(0.0), 'O': np.float64(0.0), 'S': np.float64(0.0)}\n",
            "Mantle composition:  {'FeO': np.float64(0.0), 'SiO2': np.float64(52.55497015), 'MgO': np.float64(39.17101638), 'CaO': np.float64(3.81493827), 'Al2O3': np.float64(4.45907521)}\n",
            "Mantle Fe# -0.0\n",
            "Core Mass Percent =  9.792\n",
            "\n",
            "The Upper mantle .tab already exists, please wait briefly for solution\n",
            "\n",
            "../Solutions_Small/0.07CaMg_0.00FeMg_0.09AlMg_0.9SiMg_0.0NaMg_0.00Fe\n",
            "The Lower mantle .tab already exists, please wait briefly for solution\n",
            "\n",
            "iteration # 1\n",
            "iteration # 2\n",
            "iteration # 3\n",
            "iteration # 4\n",
            "iteration # 5\n",
            "iteration # 6\n",
            "iteration # 7\n",
            "iteration # 8\n",
            "iteration # 9\n",
            "iteration # 10\n",
            "iteration # 11\n",
            "iteration # 12\n",
            "iteration # 13\n",
            "iteration # 14\n",
            "iteration # 15\n",
            "\n",
            "Mass =  1.374 Earth masses\n",
            "Radius =  1.155 Earth radii\n",
            "Core Mass Fraction =  9.97\n",
            "Core Radius Fraction =  34.01\n",
            "CMB Pressure =  214.86 GPa\n",
            "number of oceans: 0.00\n",
            "\n",
            "Detailed data file written to: high_wFEO_Radius_1.16.txt\n",
            "\n",
            "Figure(1200x1000)\n"
          ]
        }
      ],
      "source": [
        "!python Group_X.py --mass=1.374 --FeMg=0.2"
      ]
    },
    {
      "cell_type": "code",
      "execution_count": null,
      "metadata": {
        "colab": {
          "base_uri": "https://localhost:8080/"
        },
        "id": "7ymr5UeRHvp_",
        "outputId": "5a69246b-e399-4d77-8230-eb19d6705c29"
      },
      "outputs": [
        {
          "output_type": "stream",
          "name": "stdout",
          "text": [
            "\n",
            "Core composition:  {'Fe': np.float64(100.0), 'Si': np.float64(0.0), 'O': np.float64(0.0), 'S': np.float64(0.0)}\n",
            "Mantle composition:  {'FeO': np.float64(0.0), 'SiO2': np.float64(52.55497015), 'MgO': np.float64(39.17101638), 'CaO': np.float64(3.81493827), 'Al2O3': np.float64(4.45907521)}\n",
            "Mantle Fe# -0.0\n",
            "Core Mass Percent =  17.837\n",
            "\n",
            "Your closest grid filename is:  0.07CaMg_0.00FeMg_0.09AlMg_0.9SiMg_0.0NaMg_0.00Fe_U/LM_results.txt\n",
            "\n",
            "\n",
            "Core composition:  {'Fe': np.float64(100.0), 'Si': np.float64(0.0), 'O': np.float64(0.0), 'S': np.float64(0.0)}\n",
            "Mantle composition:  {'FeO': np.float64(0.0), 'SiO2': np.float64(52.55497015), 'MgO': np.float64(39.17101638), 'CaO': np.float64(3.81493827), 'Al2O3': np.float64(4.45907521)}\n",
            "Mantle Fe# -0.0\n",
            "Core Mass Percent =  17.837\n",
            "\n",
            "The Upper mantle .tab already exists, please wait briefly for solution\n",
            "\n",
            "../Solutions_Small/0.07CaMg_0.00FeMg_0.09AlMg_0.9SiMg_0.0NaMg_0.00Fe\n",
            "The Lower mantle .tab already exists, please wait briefly for solution\n",
            "\n",
            "iteration # 1\n",
            "iteration # 2\n",
            "iteration # 3\n",
            "iteration # 4\n",
            "iteration # 5\n",
            "iteration # 6\n",
            "iteration # 7\n",
            "iteration # 8\n",
            "iteration # 9\n",
            "iteration # 10\n",
            "iteration # 11\n",
            "iteration # 12\n",
            "iteration # 13\n",
            "iteration # 14\n",
            "iteration # 15\n",
            "\n",
            "Mass =  1.374 Earth masses\n",
            "Radius =  1.134 Earth radii\n",
            "Core Mass Fraction =  18.00\n",
            "Core Radius Fraction =  41.79\n",
            "CMB Pressure =  210.04 GPa\n",
            "number of oceans: 0.00\n",
            "\n",
            "Detailed data file written to: high_wFEO_Radius_1.13.txt\n",
            "\n",
            "Figure(1200x1000)\n"
          ]
        }
      ],
      "source": [
        "!python Group_X.py --mass=1.374 --FeMg=0.4"
      ]
    },
    {
      "cell_type": "code",
      "execution_count": null,
      "metadata": {
        "colab": {
          "base_uri": "https://localhost:8080/"
        },
        "id": "ZGWikb5xH1K4",
        "outputId": "d700e027-3eed-48f3-9066-8bdab80347d4"
      },
      "outputs": [
        {
          "output_type": "stream",
          "name": "stdout",
          "text": [
            "\n",
            "Core composition:  {'Fe': np.float64(100.0), 'Si': np.float64(0.0), 'O': np.float64(0.0), 'S': np.float64(0.0)}\n",
            "Mantle composition:  {'FeO': np.float64(0.0), 'SiO2': np.float64(52.55497015), 'MgO': np.float64(39.17101638), 'CaO': np.float64(3.81493827), 'Al2O3': np.float64(4.45907521)}\n",
            "Mantle Fe# -0.0\n",
            "Core Mass Percent =  24.565\n",
            "\n",
            "Your closest grid filename is:  0.07CaMg_0.00FeMg_0.09AlMg_0.9SiMg_0.0NaMg_0.00Fe_U/LM_results.txt\n",
            "\n",
            "\n",
            "Core composition:  {'Fe': np.float64(100.0), 'Si': np.float64(0.0), 'O': np.float64(0.0), 'S': np.float64(0.0)}\n",
            "Mantle composition:  {'FeO': np.float64(0.0), 'SiO2': np.float64(52.55497015), 'MgO': np.float64(39.17101638), 'CaO': np.float64(3.81493827), 'Al2O3': np.float64(4.45907521)}\n",
            "Mantle Fe# -0.0\n",
            "Core Mass Percent =  24.565\n",
            "\n",
            "The Upper mantle .tab already exists, please wait briefly for solution\n",
            "\n",
            "../Solutions_Small/0.07CaMg_0.00FeMg_0.09AlMg_0.9SiMg_0.0NaMg_0.00Fe\n",
            "The Lower mantle .tab already exists, please wait briefly for solution\n",
            "\n",
            "iteration # 1\n",
            "iteration # 2\n",
            "iteration # 3\n",
            "iteration # 4\n",
            "iteration # 5\n",
            "iteration # 6\n",
            "iteration # 7\n",
            "iteration # 8\n",
            "iteration # 9\n",
            "iteration # 10\n",
            "iteration # 11\n",
            "iteration # 12\n",
            "iteration # 13\n",
            "iteration # 14\n",
            "iteration # 15\n",
            "\n",
            "Mass =  1.374 Earth masses\n",
            "Radius =  1.116 Earth radii\n",
            "Core Mass Fraction =  24.72\n",
            "Core Radius Fraction =  46.99\n",
            "CMB Pressure =  202.44 GPa\n",
            "number of oceans: 0.00\n",
            "\n",
            "Detailed data file written to: high_wFEO_Radius_1.12.txt\n",
            "\n",
            "Figure(1200x1000)\n"
          ]
        }
      ],
      "source": [
        "!python Group_X.py --mass=1.374 --FeMg=0.6"
      ]
    },
    {
      "cell_type": "code",
      "execution_count": null,
      "metadata": {
        "colab": {
          "base_uri": "https://localhost:8080/"
        },
        "id": "Z1NjXnEeH7of",
        "outputId": "0082497e-b18c-4e3a-b74e-8a26f744e092"
      },
      "outputs": [
        {
          "output_type": "stream",
          "name": "stdout",
          "text": [
            "\n",
            "Core composition:  {'Fe': np.float64(100.0), 'Si': np.float64(0.0), 'O': np.float64(0.0), 'S': np.float64(0.0)}\n",
            "Mantle composition:  {'FeO': np.float64(0.0), 'SiO2': np.float64(52.55497015), 'MgO': np.float64(39.17101638), 'CaO': np.float64(3.81493827), 'Al2O3': np.float64(4.45907521)}\n",
            "Mantle Fe# -0.0\n",
            "Core Mass Percent =  32.816\n",
            "\n",
            "Your closest grid filename is:  0.07CaMg_0.00FeMg_0.09AlMg_0.9SiMg_0.0NaMg_0.00Fe_U/LM_results.txt\n",
            "\n",
            "\n",
            "Core composition:  {'Fe': np.float64(100.0), 'Si': np.float64(0.0), 'O': np.float64(0.0), 'S': np.float64(0.0)}\n",
            "Mantle composition:  {'FeO': np.float64(0.0), 'SiO2': np.float64(52.55497015), 'MgO': np.float64(39.17101638), 'CaO': np.float64(3.81493827), 'Al2O3': np.float64(4.45907521)}\n",
            "Mantle Fe# -0.0\n",
            "Core Mass Percent =  32.816\n",
            "\n",
            "The Upper mantle .tab already exists, please wait briefly for solution\n",
            "\n",
            "../Solutions_Small/0.07CaMg_0.00FeMg_0.09AlMg_0.9SiMg_0.0NaMg_0.00Fe\n",
            "The Lower mantle .tab already exists, please wait briefly for solution\n",
            "\n",
            "iteration # 1\n",
            "iteration # 2\n",
            "iteration # 3\n",
            "iteration # 4\n",
            "iteration # 5\n",
            "iteration # 6\n",
            "iteration # 7\n",
            "iteration # 8\n",
            "iteration # 9\n",
            "iteration # 10\n",
            "iteration # 11\n",
            "iteration # 12\n",
            "iteration # 13\n",
            "iteration # 14\n",
            "iteration # 15\n",
            "\n",
            "Mass =  1.374 Earth masses\n",
            "Radius =  1.093 Earth radii\n",
            "Core Mass Fraction =  32.95\n",
            "Core Radius Fraction =  52.63\n",
            "CMB Pressure =  189.98 GPa\n",
            "number of oceans: 0.00\n",
            "\n",
            "Detailed data file written to: high_wFEO_Radius_1.09.txt\n",
            "\n",
            "Figure(1200x1000)\n"
          ]
        }
      ],
      "source": [
        "!python Group_X.py --mass=1.374 --FeMg=0.9"
      ]
    },
    {
      "cell_type": "code",
      "execution_count": null,
      "metadata": {
        "colab": {
          "base_uri": "https://localhost:8080/"
        },
        "id": "cl-Wk_o3IB2V",
        "outputId": "300d6f63-4356-4ba8-c676-b1205328710f"
      },
      "outputs": [
        {
          "output_type": "stream",
          "name": "stdout",
          "text": [
            "\n",
            "Core composition:  {'Fe': np.float64(100.0), 'Si': np.float64(0.0), 'O': np.float64(0.0), 'S': np.float64(0.0)}\n",
            "Mantle composition:  {'FeO': np.float64(0.0), 'SiO2': np.float64(52.55497015), 'MgO': np.float64(39.17101638), 'CaO': np.float64(3.81493827), 'Al2O3': np.float64(4.45907521)}\n",
            "Mantle Fe# -0.0\n",
            "Core Mass Percent =  39.441\n",
            "\n",
            "Your closest grid filename is:  0.07CaMg_0.00FeMg_0.09AlMg_0.9SiMg_0.0NaMg_0.00Fe_U/LM_results.txt\n",
            "\n",
            "\n",
            "Core composition:  {'Fe': np.float64(100.0), 'Si': np.float64(0.0), 'O': np.float64(0.0), 'S': np.float64(0.0)}\n",
            "Mantle composition:  {'FeO': np.float64(0.0), 'SiO2': np.float64(52.55497015), 'MgO': np.float64(39.17101638), 'CaO': np.float64(3.81493827), 'Al2O3': np.float64(4.45907521)}\n",
            "Mantle Fe# -0.0\n",
            "Core Mass Percent =  39.441\n",
            "\n",
            "The Upper mantle .tab already exists, please wait briefly for solution\n",
            "\n",
            "../Solutions_Small/0.07CaMg_0.00FeMg_0.09AlMg_0.9SiMg_0.0NaMg_0.00Fe\n",
            "The Lower mantle .tab already exists, please wait briefly for solution\n",
            "\n",
            "iteration # 1\n",
            "iteration # 2\n",
            "iteration # 3\n",
            "iteration # 4\n",
            "iteration # 5\n",
            "iteration # 6\n",
            "iteration # 7\n",
            "iteration # 8\n",
            "iteration # 9\n",
            "iteration # 10\n",
            "iteration # 11\n",
            "iteration # 12\n",
            "iteration # 13\n",
            "iteration # 14\n",
            "iteration # 15\n",
            "iteration # 16\n",
            "\n",
            "Mass =  1.374 Earth masses\n",
            "Radius =  1.074 Earth radii\n",
            "Core Mass Fraction =  39.56\n",
            "Core Radius Fraction =  56.84\n",
            "CMB Pressure =  177.91 GPa\n",
            "number of oceans: 0.00\n",
            "\n",
            "Detailed data file written to: high_wFEO_Radius_1.07.txt\n",
            "\n",
            "Figure(1200x1000)\n"
          ]
        }
      ],
      "source": [
        "!python Group_X.py --mass=1.374 --FeMg=1.2"
      ]
    },
    {
      "cell_type": "code",
      "execution_count": null,
      "metadata": {
        "colab": {
          "base_uri": "https://localhost:8080/"
        },
        "id": "wLZm9Ne3IG3L",
        "outputId": "d8fe6e4e-484a-477f-c322-9935f52e9ef5"
      },
      "outputs": [
        {
          "output_type": "stream",
          "name": "stdout",
          "text": [
            "\n",
            "Core composition:  {'Fe': np.float64(100.0), 'Si': np.float64(0.0), 'O': np.float64(0.0), 'S': np.float64(0.0)}\n",
            "Mantle composition:  {'FeO': np.float64(0.0), 'SiO2': np.float64(52.55497015), 'MgO': np.float64(39.17101638), 'CaO': np.float64(3.81493827), 'Al2O3': np.float64(4.45907521)}\n",
            "Mantle Fe# -0.0\n",
            "Core Mass Percent =  44.876\n",
            "\n",
            "Your closest grid filename is:  0.07CaMg_0.00FeMg_0.09AlMg_0.9SiMg_0.0NaMg_0.00Fe_U/LM_results.txt\n",
            "\n",
            "\n",
            "Core composition:  {'Fe': np.float64(100.0), 'Si': np.float64(0.0), 'O': np.float64(0.0), 'S': np.float64(0.0)}\n",
            "Mantle composition:  {'FeO': np.float64(0.0), 'SiO2': np.float64(52.55497015), 'MgO': np.float64(39.17101638), 'CaO': np.float64(3.81493827), 'Al2O3': np.float64(4.45907521)}\n",
            "Mantle Fe# -0.0\n",
            "Core Mass Percent =  44.876\n",
            "\n",
            "The Upper mantle .tab already exists, please wait briefly for solution\n",
            "\n",
            "../Solutions_Small/0.07CaMg_0.00FeMg_0.09AlMg_0.9SiMg_0.0NaMg_0.00Fe\n",
            "The Lower mantle .tab already exists, please wait briefly for solution\n",
            "\n",
            "iteration # 1\n",
            "iteration # 2\n",
            "iteration # 3\n",
            "iteration # 4\n",
            "iteration # 5\n",
            "iteration # 6\n",
            "iteration # 7\n",
            "iteration # 8\n",
            "iteration # 9\n",
            "iteration # 10\n",
            "iteration # 11\n",
            "iteration # 12\n",
            "iteration # 13\n",
            "iteration # 14\n",
            "iteration # 15\n",
            "iteration # 16\n",
            "\n",
            "Mass =  1.374 Earth masses\n",
            "Radius =  1.059 Earth radii\n",
            "Core Mass Fraction =  44.99\n",
            "Core Radius Fraction =  60.18\n",
            "CMB Pressure =  166.78 GPa\n",
            "number of oceans: 0.00\n",
            "\n",
            "Detailed data file written to: high_wFEO_Radius_1.06.txt\n",
            "\n",
            "Figure(1200x1000)\n"
          ]
        }
      ],
      "source": [
        "!python Group_X.py --mass=1.374 --FeMg=1.5"
      ]
    },
    {
      "cell_type": "markdown",
      "metadata": {
        "id": "F1QbEwfH_B-S"
      },
      "source": [
        "## **WARMUP #3**"
      ]
    },
    {
      "cell_type": "markdown",
      "metadata": {
        "id": "F8ThMaeWJbCI"
      },
      "source": [
        "We will now do the same thing but just change the mol_frac_Fe_mantle numbers. Starting with very small and seeing how high we can go before the model breaks."
      ]
    },
    {
      "cell_type": "code",
      "execution_count": null,
      "metadata": {
        "colab": {
          "base_uri": "https://localhost:8080/"
        },
        "id": "4gvanTFL_VHQ",
        "outputId": "98c54c72-9bd2-4025-af0f-b524e2120539"
      },
      "outputs": [
        {
          "output_type": "stream",
          "name": "stdout",
          "text": [
            "\n",
            "Core composition:  {'Fe': np.float64(100.0), 'Si': np.float64(0.0), 'O': np.float64(0.0), 'S': np.float64(0.0)}\n",
            "Mantle composition:  {'FeO': np.float64(0.62447702), 'SiO2': np.float64(52.22677644), 'MgO': np.float64(38.92640238), 'CaO': np.float64(3.79111485), 'Al2O3': np.float64(4.43122931)}\n",
            "Mantle Fe# 0.0089197224975223\n",
            "Core Mass Percent =  32.458\n",
            "\n",
            "Your closest grid filename is:  0.07CaMg_0.00FeMg_0.09AlMg_0.9SiMg_0.0NaMg_0.00Fe_U/LM_results.txt\n",
            "\n",
            "\n",
            "Core composition:  {'Fe': np.float64(100.0), 'Si': np.float64(0.0), 'O': np.float64(0.0), 'S': np.float64(0.0)}\n",
            "Mantle composition:  {'FeO': np.float64(0.62447702), 'SiO2': np.float64(52.22677644), 'MgO': np.float64(38.92640238), 'CaO': np.float64(3.79111485), 'Al2O3': np.float64(4.43122931)}\n",
            "Mantle Fe# 0.0089197224975223\n",
            "Core Mass Percent =  32.458\n",
            "\n",
            "The Upper mantle .tab already exists, please wait briefly for solution\n",
            "\n",
            "../Solutions_Small/0.07CaMg_0.00FeMg_0.09AlMg_0.9SiMg_0.0NaMg_0.00Fe\n",
            "The Lower mantle .tab already exists, please wait briefly for solution\n",
            "\n",
            "iteration # 1\n",
            "iteration # 2\n",
            "iteration # 3\n",
            "iteration # 4\n",
            "iteration # 5\n",
            "iteration # 6\n",
            "iteration # 7\n",
            "iteration # 8\n",
            "iteration # 9\n",
            "iteration # 10\n",
            "iteration # 11\n",
            "iteration # 12\n",
            "iteration # 13\n",
            "iteration # 14\n",
            "iteration # 15\n",
            "iteration # 16\n",
            "\n",
            "Mass =  1.374 Earth masses\n",
            "Radius =  1.094 Earth radii\n",
            "Core Mass Fraction =  32.59\n",
            "Core Radius Fraction =  52.39\n",
            "CMB Pressure =  190.58 GPa\n",
            "number of oceans: 0.00\n",
            "\n",
            "Detailed data file written to: high_wFEO_Radius_1.09.txt\n",
            "\n",
            "Figure(1200x1000)\n"
          ]
        }
      ],
      "source": [
        "!python Group_X.py --mass=1.374 --FeMg=0.9 --mol_frac_Fe_mantle=0.01"
      ]
    },
    {
      "cell_type": "code",
      "execution_count": null,
      "metadata": {
        "colab": {
          "base_uri": "https://localhost:8080/"
        },
        "id": "lysSBNfWJvIG",
        "outputId": "11717fcb-1e7c-4b9a-edd0-777a3c85c8ac"
      },
      "outputs": [
        {
          "output_type": "stream",
          "name": "stdout",
          "text": [
            "\n",
            "Core composition:  {'Fe': np.float64(100.0), 'Si': np.float64(0.0), 'O': np.float64(0.0), 'S': np.float64(0.0)}\n",
            "Mantle composition:  {'FeO': np.float64(3.04629155), 'SiO2': np.float64(50.95399254), 'MgO': np.float64(37.97775301), 'CaO': np.float64(3.69872412), 'Al2O3': np.float64(4.32323878)}\n",
            "Mantle Fe# 0.043062200956937816\n",
            "Core Mass Percent =  31.030\n",
            "\n",
            "Your closest grid filename is:  0.07CaMg_0.00FeMg_0.09AlMg_0.9SiMg_0.0NaMg_0.04Fe_U/LM_results.txt\n",
            "\n",
            "\n",
            "Core composition:  {'Fe': np.float64(100.0), 'Si': np.float64(0.0), 'O': np.float64(0.0), 'S': np.float64(0.0)}\n",
            "Mantle composition:  {'FeO': np.float64(3.04629155), 'SiO2': np.float64(50.95399254), 'MgO': np.float64(37.97775301), 'CaO': np.float64(3.69872412), 'Al2O3': np.float64(4.32323878)}\n",
            "Mantle Fe# 0.043062200956937816\n",
            "Core Mass Percent =  31.030\n",
            "\n",
            "The Upper mantle .tab already exists, please wait briefly for solution\n",
            "\n",
            "../Solutions_Small/0.07CaMg_0.00FeMg_0.09AlMg_0.9SiMg_0.0NaMg_0.04Fe\n",
            "The Lower mantle .tab already exists, please wait briefly for solution\n",
            "\n",
            "iteration # 1\n",
            "iteration # 2\n",
            "iteration # 3\n",
            "iteration # 4\n",
            "iteration # 5\n",
            "iteration # 6\n",
            "iteration # 7\n",
            "iteration # 8\n",
            "iteration # 9\n",
            "iteration # 10\n",
            "iteration # 11\n",
            "iteration # 12\n",
            "iteration # 13\n",
            "iteration # 14\n",
            "iteration # 15\n",
            "iteration # 16\n",
            "\n",
            "Mass =  1.374 Earth masses\n",
            "Radius =  1.093 Earth radii\n",
            "Core Mass Fraction =  31.17\n",
            "Core Radius Fraction =  51.66\n",
            "CMB Pressure =  195.73 GPa\n",
            "number of oceans: 0.00\n",
            "\n",
            "Detailed data file written to: high_wFEO_Radius_1.09.txt\n",
            "\n",
            "Figure(1200x1000)\n"
          ]
        }
      ],
      "source": [
        "!python Group_X.py --mass=1.374 --FeMg=0.9 --mol_frac_Fe_mantle=0.05"
      ]
    },
    {
      "cell_type": "code",
      "execution_count": null,
      "metadata": {
        "colab": {
          "base_uri": "https://localhost:8080/"
        },
        "id": "QiRUcZcMJzaB",
        "outputId": "4bc9ac6e-3079-4035-e7b4-ad109091c1d2"
      },
      "outputs": [
        {
          "output_type": "stream",
          "name": "stdout",
          "text": [
            "\n",
            "Core composition:  {'Fe': np.float64(100.0), 'Si': np.float64(0.0), 'O': np.float64(0.0), 'S': np.float64(0.0)}\n",
            "Mantle composition:  {'FeO': np.float64(5.91247197), 'SiO2': np.float64(49.44767227), 'MgO': np.float64(36.85504101), 'CaO': np.float64(3.58938111), 'Al2O3': np.float64(4.19543364)}\n",
            "Mantle Fe# 0.0825688073394495\n",
            "Core Mass Percent =  29.260\n",
            "\n",
            "Your closest grid filename is:  0.07CaMg_0.00FeMg_0.09AlMg_0.9SiMg_0.0NaMg_0.06Fe_U/LM_results.txt\n",
            "\n",
            "\n",
            "Core composition:  {'Fe': np.float64(100.0), 'Si': np.float64(0.0), 'O': np.float64(0.0), 'S': np.float64(0.0)}\n",
            "Mantle composition:  {'FeO': np.float64(5.91247197), 'SiO2': np.float64(49.44767227), 'MgO': np.float64(36.85504101), 'CaO': np.float64(3.58938111), 'Al2O3': np.float64(4.19543364)}\n",
            "Mantle Fe# 0.0825688073394495\n",
            "Core Mass Percent =  29.260\n",
            "\n",
            "The Upper mantle .tab already exists, please wait briefly for solution\n",
            "\n",
            "../Solutions_Small/0.07CaMg_0.00FeMg_0.09AlMg_0.9SiMg_0.0NaMg_0.06Fe\n",
            "The Lower mantle .tab already exists, please wait briefly for solution\n",
            "\n",
            "iteration # 1\n",
            "iteration # 2\n",
            "iteration # 3\n",
            "iteration # 4\n",
            "iteration # 5\n",
            "iteration # 6\n",
            "iteration # 7\n",
            "iteration # 8\n",
            "iteration # 9\n",
            "iteration # 10\n",
            "iteration # 11\n",
            "iteration # 12\n",
            "iteration # 13\n",
            "iteration # 14\n",
            "iteration # 15\n",
            "iteration # 16\n",
            "\n",
            "Mass =  1.374 Earth masses\n",
            "Radius =  1.095 Earth radii\n",
            "Core Mass Fraction =  29.40\n",
            "Core Radius Fraction =  50.58\n",
            "CMB Pressure =  200.12 GPa\n",
            "number of oceans: 0.00\n",
            "\n",
            "Detailed data file written to: high_wFEO_Radius_1.09.txt\n",
            "\n",
            "Figure(1200x1000)\n"
          ]
        }
      ],
      "source": [
        "!python Group_X.py --mass=1.374 --FeMg=0.9 --mol_frac_Fe_mantle=0.1"
      ]
    },
    {
      "cell_type": "code",
      "execution_count": null,
      "metadata": {
        "colab": {
          "base_uri": "https://localhost:8080/"
        },
        "id": "edRdvEzfJ5em",
        "outputId": "cae3cd08-c56c-42e1-fbf1-ece7f17bacf9"
      },
      "outputs": [
        {
          "output_type": "stream",
          "name": "stdout",
          "text": [
            "\n",
            "Core composition:  {'Fe': np.float64(100.0), 'Si': np.float64(0.0), 'O': np.float64(0.0), 'S': np.float64(0.0)}\n",
            "Mantle composition:  {'FeO': np.float64(11.16482669), 'SiO2': np.float64(46.68729882), 'MgO': np.float64(34.79764028), 'CaO': np.float64(3.38900702), 'Al2O3': np.float64(3.96122719)}\n",
            "Mantle Fe# 0.15254237288135578\n",
            "Core Mass Percent =  25.769\n",
            "\n",
            "Your closest grid filename is:  0.07CaMg_0.00FeMg_0.09AlMg_0.9SiMg_0.0NaMg_0.10Fe_U/LM_results.txt\n",
            "\n",
            "\n",
            "Core composition:  {'Fe': np.float64(100.0), 'Si': np.float64(0.0), 'O': np.float64(0.0), 'S': np.float64(0.0)}\n",
            "Mantle composition:  {'FeO': np.float64(11.16482669), 'SiO2': np.float64(46.68729882), 'MgO': np.float64(34.79764028), 'CaO': np.float64(3.38900702), 'Al2O3': np.float64(3.96122719)}\n",
            "Mantle Fe# 0.15254237288135578\n",
            "Core Mass Percent =  25.769\n",
            "\n",
            "The Upper mantle .tab already exists, please wait briefly for solution\n",
            "\n",
            "../Solutions_Small/0.07CaMg_0.00FeMg_0.09AlMg_0.9SiMg_0.0NaMg_0.10Fe\n",
            "The Lower mantle .tab already exists, please wait briefly for solution\n",
            "\n",
            "iteration # 1\n",
            "iteration # 2\n",
            "iteration # 3\n",
            "iteration # 4\n",
            "iteration # 5\n",
            "iteration # 6\n",
            "iteration # 7\n",
            "iteration # 8\n",
            "iteration # 9\n",
            "iteration # 10\n",
            "iteration # 11\n",
            "iteration # 12\n",
            "iteration # 13\n",
            "iteration # 14\n",
            "iteration # 15\n",
            "\n",
            "Mass =  1.374 Earth masses\n",
            "Radius =  1.098 Earth radii\n",
            "Core Mass Fraction =  25.92\n",
            "Core Radius Fraction =  48.35\n",
            "CMB Pressure =  208.83 GPa\n",
            "number of oceans: 0.00\n",
            "\n",
            "Detailed data file written to: high_wFEO_Radius_1.10.txt\n",
            "\n",
            "Figure(1200x1000)\n"
          ]
        }
      ],
      "source": [
        "!python Group_X.py --mass=1.374 --FeMg=0.9 --mol_frac_Fe_mantle=0.2"
      ]
    },
    {
      "cell_type": "code",
      "execution_count": null,
      "metadata": {
        "colab": {
          "base_uri": "https://localhost:8080/"
        },
        "id": "hlY_N27_J-RW",
        "outputId": "5d9994a4-2465-4a15-d70b-bf5d1b2a237c"
      },
      "outputs": [
        {
          "output_type": "stream",
          "name": "stdout",
          "text": [
            "\n",
            "Core composition:  {'Fe': np.float64(100.0), 'Si': np.float64(0.0), 'O': np.float64(0.0), 'S': np.float64(0.0)}\n",
            "Mantle composition:  {'FeO': np.float64(15.86177045), 'SiO2': np.float64(44.21882143), 'MgO': np.float64(32.95779968), 'CaO': np.float64(3.20982151), 'Al2O3': np.float64(3.75178693)}\n",
            "Mantle Fe# 0.21259842519685035\n",
            "Core Mass Percent =  22.341\n",
            "\n",
            "Your closest grid filename is:  0.07CaMg_0.00FeMg_0.09AlMg_0.9SiMg_0.0NaMg_0.15Fe_U/LM_results.txt\n",
            "\n",
            "\n",
            "Core composition:  {'Fe': np.float64(100.0), 'Si': np.float64(0.0), 'O': np.float64(0.0), 'S': np.float64(0.0)}\n",
            "Mantle composition:  {'FeO': np.float64(15.86177045), 'SiO2': np.float64(44.21882143), 'MgO': np.float64(32.95779968), 'CaO': np.float64(3.20982151), 'Al2O3': np.float64(3.75178693)}\n",
            "Mantle Fe# 0.21259842519685035\n",
            "Core Mass Percent =  22.341\n",
            "\n",
            "The Upper mantle .tab already exists, please wait briefly for solution\n",
            "\n",
            "../Solutions_Small/0.07CaMg_0.00FeMg_0.09AlMg_0.9SiMg_0.0NaMg_0.15Fe\n",
            "The Lower mantle .tab already exists, please wait briefly for solution\n",
            "\n",
            "iteration # 1\n",
            "iteration # 2\n",
            "iteration # 3\n",
            "iteration # 4\n",
            "iteration # 5\n",
            "iteration # 6\n",
            "iteration # 7\n",
            "iteration # 8\n",
            "iteration # 9\n",
            "iteration # 10\n",
            "iteration # 11\n",
            "iteration # 12\n",
            "iteration # 13\n",
            "iteration # 14\n",
            "iteration # 15\n",
            "\n",
            "Mass =  1.374 Earth masses\n",
            "Radius =  1.100 Earth radii\n",
            "Core Mass Fraction =  22.50\n",
            "Core Radius Fraction =  46.07\n",
            "CMB Pressure =  218.37 GPa\n",
            "number of oceans: 0.00\n",
            "\n",
            "Detailed data file written to: high_wFEO_Radius_1.10.txt\n",
            "\n",
            "Figure(1200x1000)\n"
          ]
        }
      ],
      "source": [
        "!python Group_X.py --mass=1.374 --FeMg=0.9 --mol_frac_Fe_mantle=0.3"
      ]
    },
    {
      "cell_type": "code",
      "execution_count": null,
      "metadata": {
        "colab": {
          "base_uri": "https://localhost:8080/"
        },
        "id": "frwPDvQPKDJF",
        "outputId": "2c337a81-4e33-43c4-bd95-50e1803763dc"
      },
      "outputs": [
        {
          "output_type": "stream",
          "name": "stdout",
          "text": [
            "\n",
            "Core composition:  {'Fe': np.float64(100.0), 'Si': np.float64(0.0), 'O': np.float64(0.0), 'S': np.float64(0.0)}\n",
            "Mantle composition:  {'FeO': np.float64(20.08697719), 'SiO2': np.float64(41.99826528), 'MgO': np.float64(31.30274325), 'CaO': np.float64(3.04863249), 'Al2O3': np.float64(3.56338179)}\n",
            "Mantle Fe# 0.26470588235294124\n",
            "Core Mass Percent =  18.976\n",
            "\n",
            "Traceback (most recent call last):\n",
            "  File \"/content/drive/.shortcut-targets-by-id/1CklpevfgBa21F5mnzM59y_7t9YrIFMED/ExoPlex_dist/Group_4/Group_X.py\", line 111, in <module>\n",
            "    filename = exo.functions.find_filename(compositional_params)\n",
            "               ^^^^^^^^^^^^^^^^^^^^^^^^^^^^^^^^^^^^^^^^^^^^^^^^^\n",
            "  File \"/content/drive/.shortcut-targets-by-id/1CklpevfgBa21F5mnzM59y_7t9YrIFMED/ExoPlex_dist/ExoPlex/functions.py\", line 915, in find_filename\n",
            "    assert FeO <= max(range_FeO), \"FeO is outside of range of grids\"\n",
            "           ^^^^^^^^^^^^^^^^^^^^^\n",
            "AssertionError: FeO is outside of range of grids\n"
          ]
        }
      ],
      "source": [
        "!python Group_X.py --mass=1.374 --FeMg=0.9 --mol_frac_Fe_mantle=0.4"
      ]
    },
    {
      "cell_type": "markdown",
      "metadata": {
        "id": "WojC48ECLyZJ"
      },
      "source": [
        "# **WARMUP 4**"
      ]
    },
    {
      "cell_type": "markdown",
      "metadata": {
        "id": "FaN6U4VSL3MK"
      },
      "source": [
        "**wt_frac_Si_core** = weight fraction of silicon. Lightens the core, expands it slightly.\n",
        "\n",
        "**wt_frac_0_core** = weight fraction of oxygen. Lightens core, makes it less dense.\n",
        "\n",
        "**wt_frac_S_core** = weight fraction of sulfur. Lightens core, changes composition & pressure.\n",
        "\n",
        "Fractions of the core, not of the whole planet.\n"
      ]
    },
    {
      "cell_type": "code",
      "execution_count": null,
      "metadata": {
        "colab": {
          "base_uri": "https://localhost:8080/"
        },
        "id": "OcBWD-M5MLVv",
        "outputId": "e06569c5-1428-4a70-c379-b6bed193b8e5"
      },
      "outputs": [
        {
          "output_type": "stream",
          "name": "stdout",
          "text": [
            "\n",
            "Core composition:  {'Fe': np.float64(99.0), 'Si': np.float64(1.0), 'O': np.float64(0.0), 'S': np.float64(0.0)}\n",
            "Mantle composition:  {'FeO': np.float64(2.39289124), 'SiO2': np.float64(50.82264182), 'MgO': np.float64(38.62565007), 'CaO': np.float64(3.76182402), 'Al2O3': np.float64(4.39699284)}\n",
            "Mantle Fe# 0.03358767423474391\n",
            "Core Mass Percent =  31.868\n",
            "\n",
            "Your closest grid filename is:  0.07CaMg_0.00FeMg_0.09AlMg_0.9SiMg_0.0NaMg_0.02Fe_U/LM_results.txt\n",
            "\n",
            "\n",
            "Core composition:  {'Fe': np.float64(99.0), 'Si': np.float64(1.0), 'O': np.float64(0.0), 'S': np.float64(0.0)}\n",
            "Mantle composition:  {'FeO': np.float64(2.39289124), 'SiO2': np.float64(50.82264182), 'MgO': np.float64(38.62565007), 'CaO': np.float64(3.76182402), 'Al2O3': np.float64(4.39699284)}\n",
            "Mantle Fe# 0.03358767423474391\n",
            "Core Mass Percent =  31.868\n",
            "\n",
            "The Upper mantle .tab already exists, please wait briefly for solution\n",
            "\n",
            "../Solutions_Small/0.07CaMg_0.00FeMg_0.09AlMg_0.9SiMg_0.0NaMg_0.02Fe\n",
            "The Lower mantle .tab already exists, please wait briefly for solution\n",
            "\n",
            "iteration # 1\n",
            "iteration # 2\n",
            "iteration # 3\n",
            "iteration # 4\n",
            "iteration # 5\n",
            "iteration # 6\n",
            "iteration # 7\n",
            "iteration # 8\n",
            "iteration # 9\n",
            "iteration # 10\n",
            "iteration # 11\n",
            "iteration # 12\n",
            "iteration # 13\n",
            "iteration # 14\n",
            "iteration # 15\n",
            "\n",
            "Mass =  1.374 Earth masses\n",
            "Radius =  1.094 Earth radii\n",
            "Core Mass Fraction =  32.00\n",
            "Core Radius Fraction =  52.29\n",
            "CMB Pressure =  191.36 GPa\n",
            "number of oceans: 0.00\n",
            "\n",
            "Detailed data file written to: high_wFEO_Radius_1.09.txt\n",
            "\n",
            "Figure(1200x1000)\n"
          ]
        }
      ],
      "source": [
        "!python Group_X.py --mass=1.374 --FeMg=0.9 --mol_frac_Fe_mantle=0.0 --wt_frac_Si_core=0.01"
      ]
    },
    {
      "cell_type": "code",
      "execution_count": null,
      "metadata": {
        "colab": {
          "base_uri": "https://localhost:8080/"
        },
        "id": "74MH3LaNMY8r",
        "outputId": "152833c6-0087-4c72-ebda-145d3656d967"
      },
      "outputs": [
        {
          "output_type": "stream",
          "name": "stdout",
          "text": [
            "\n",
            "Core composition:  {'Fe': np.float64(95.0), 'Si': np.float64(5.0), 'O': np.float64(0.0), 'S': np.float64(0.0)}\n",
            "Mantle composition:  {'FeO': np.float64(10.22861891), 'SiO2': np.float64(45.14998408), 'MgO': np.float64(36.83980131), 'CaO': np.float64(3.58789689), 'Al2O3': np.float64(4.19369881)}\n",
            "Mantle Fe# 0.13477224829434822\n",
            "Core Mass Percent =  28.565\n",
            "\n",
            "Your closest grid filename is:  0.07CaMg_0.00FeMg_0.09AlMg_0.8SiMg_0.0NaMg_0.10Fe_U/LM_results.txt\n",
            "\n",
            "\n",
            "Core composition:  {'Fe': np.float64(95.0), 'Si': np.float64(5.0), 'O': np.float64(0.0), 'S': np.float64(0.0)}\n",
            "Mantle composition:  {'FeO': np.float64(10.22861891), 'SiO2': np.float64(45.14998408), 'MgO': np.float64(36.83980131), 'CaO': np.float64(3.58789689), 'Al2O3': np.float64(4.19369881)}\n",
            "Mantle Fe# 0.13477224829434822\n",
            "Core Mass Percent =  28.565\n",
            "\n",
            "The Upper mantle .tab already exists, please wait briefly for solution\n",
            "\n",
            "../Solutions_Small/0.07CaMg_0.00FeMg_0.09AlMg_0.8SiMg_0.0NaMg_0.10Fe\n",
            "The Lower mantle .tab already exists, please wait briefly for solution\n",
            "\n",
            "iteration # 1\n",
            "iteration # 2\n",
            "iteration # 3\n",
            "iteration # 4\n",
            "iteration # 5\n",
            "iteration # 6\n",
            "iteration # 7\n",
            "iteration # 8\n",
            "iteration # 9\n",
            "iteration # 10\n",
            "iteration # 11\n",
            "iteration # 12\n",
            "iteration # 13\n",
            "iteration # 14\n",
            "iteration # 15\n",
            "\n",
            "Mass =  1.374 Earth masses\n",
            "Radius =  1.096 Earth radii\n",
            "Core Mass Fraction =  28.71\n",
            "Core Radius Fraction =  51.11\n",
            "CMB Pressure =  196.21 GPa\n",
            "number of oceans: 0.00\n",
            "\n",
            "Detailed data file written to: high_wFEO_Radius_1.10.txt\n",
            "\n",
            "Figure(1200x1000)\n"
          ]
        }
      ],
      "source": [
        "!python Group_X.py --mass=1.374 --FeMg=0.9 --mol_frac_Fe_mantle=0.0 --wt_frac_Si_core=0.05"
      ]
    },
    {
      "cell_type": "code",
      "execution_count": null,
      "metadata": {
        "colab": {
          "base_uri": "https://localhost:8080/"
        },
        "id": "nSFTK5FWMkwK",
        "outputId": "50679a9b-fd89-47fb-ffb1-589bfe087371"
      },
      "outputs": [
        {
          "output_type": "stream",
          "name": "stdout",
          "text": [
            "\n",
            "Core composition:  {'Fe': np.float64(90.0), 'Si': np.float64(10.0), 'O': np.float64(0.0), 'S': np.float64(0.0)}\n",
            "Mantle composition:  {'FeO': np.float64(17.31677854), 'SiO2': np.float64(40.01852658), 'MgO': np.float64(35.22433155), 'CaO': np.float64(3.43056328), 'Al2O3': np.float64(4.00980005)}\n",
            "Mantle Fe# 0.21617823817348866\n",
            "Core Mass Percent =  25.289\n",
            "\n",
            "Your closest grid filename is:  0.07CaMg_0.00FeMg_0.09AlMg_0.8SiMg_0.0NaMg_0.15Fe_U/LM_results.txt\n",
            "\n",
            "\n",
            "Core composition:  {'Fe': np.float64(90.0), 'Si': np.float64(10.0), 'O': np.float64(0.0), 'S': np.float64(0.0)}\n",
            "Mantle composition:  {'FeO': np.float64(17.31677854), 'SiO2': np.float64(40.01852658), 'MgO': np.float64(35.22433155), 'CaO': np.float64(3.43056328), 'Al2O3': np.float64(4.00980005)}\n",
            "Mantle Fe# 0.21617823817348866\n",
            "Core Mass Percent =  25.289\n",
            "\n",
            "The Upper mantle .tab already exists, please wait briefly for solution\n",
            "\n",
            "../Solutions_Small/0.07CaMg_0.00FeMg_0.09AlMg_0.8SiMg_0.0NaMg_0.15Fe\n",
            "The Lower mantle .tab already exists, please wait briefly for solution\n",
            "\n",
            "iteration # 1\n",
            "iteration # 2\n",
            "iteration # 3\n",
            "iteration # 4\n",
            "iteration # 5\n",
            "iteration # 6\n",
            "iteration # 7\n",
            "iteration # 8\n",
            "iteration # 9\n",
            "iteration # 10\n",
            "iteration # 11\n",
            "iteration # 12\n",
            "iteration # 13\n",
            "iteration # 14\n",
            "iteration # 15\n",
            "\n",
            "Mass =  1.374 Earth masses\n",
            "Radius =  1.100 Earth radii\n",
            "Core Mass Fraction =  25.44\n",
            "Core Radius Fraction =  49.82\n",
            "CMB Pressure =  198.85 GPa\n",
            "number of oceans: 0.00\n",
            "\n",
            "Detailed data file written to: high_wFEO_Radius_1.10.txt\n",
            "\n",
            "Figure(1200x1000)\n"
          ]
        }
      ],
      "source": [
        "!python Group_X.py --mass=1.374 --FeMg=0.9 --mol_frac_Fe_mantle=0.0 --wt_frac_Si_core=0.10"
      ]
    },
    {
      "cell_type": "code",
      "execution_count": null,
      "metadata": {
        "colab": {
          "base_uri": "https://localhost:8080/"
        },
        "id": "NONv1pyEMwyq",
        "outputId": "1cbb58b5-6ca7-4323-eb99-93e164eabade"
      },
      "outputs": [
        {
          "output_type": "stream",
          "name": "stdout",
          "text": [
            "\n",
            "Core composition:  {'Fe': np.float64(85.0), 'Si': np.float64(15.0), 'O': np.float64(0.0), 'S': np.float64(0.0)}\n",
            "Mantle composition:  {'FeO': np.float64(22.5183069), 'SiO2': np.float64(36.25289161), 'MgO': np.float64(34.03884587), 'CaO': np.float64(3.31510662), 'Al2O3': np.float64(3.874849)}\n",
            "Mantle Fe# 0.2706768982401957\n",
            "Core Mass Percent =  22.687\n",
            "\n",
            "Traceback (most recent call last):\n",
            "  File \"/content/drive/.shortcut-targets-by-id/1CklpevfgBa21F5mnzM59y_7t9YrIFMED/ExoPlex_dist/Group_4/Group_X.py\", line 111, in <module>\n",
            "    filename = exo.functions.find_filename(compositional_params)\n",
            "               ^^^^^^^^^^^^^^^^^^^^^^^^^^^^^^^^^^^^^^^^^^^^^^^^^\n",
            "  File \"/content/drive/.shortcut-targets-by-id/1CklpevfgBa21F5mnzM59y_7t9YrIFMED/ExoPlex_dist/ExoPlex/functions.py\", line 915, in find_filename\n",
            "    assert FeO <= max(range_FeO), \"FeO is outside of range of grids\"\n",
            "           ^^^^^^^^^^^^^^^^^^^^^\n",
            "AssertionError: FeO is outside of range of grids\n"
          ]
        }
      ],
      "source": [
        "!python Group_X.py --mass=1.374 --FeMg=0.9 --mol_frac_Fe_mantle=0.0 --wt_frac_Si_core=0.15"
      ]
    },
    {
      "cell_type": "markdown",
      "metadata": {
        "id": "UlwLBwDFQ9I_"
      },
      "source": [
        "**Changing Oxygen**"
      ]
    },
    {
      "cell_type": "code",
      "execution_count": null,
      "metadata": {
        "colab": {
          "base_uri": "https://localhost:8080/"
        },
        "id": "WAjx3CDSRA70",
        "outputId": "b17519aa-2a3e-4f17-dd7a-d658901d674c"
      },
      "outputs": [
        {
          "output_type": "stream",
          "name": "stdout",
          "text": [
            "\n",
            "Core composition:  {'Fe': np.float64(99.0), 'Si': np.float64(0.0), 'O': np.float64(1.0), 'S': np.float64(0.0)}\n",
            "Mantle composition:  {'FeO': np.float64(0.0), 'SiO2': np.float64(52.55497015), 'MgO': np.float64(39.17101638), 'CaO': np.float64(3.81493827), 'Al2O3': np.float64(4.45907521)}\n",
            "Mantle Fe# -0.0\n",
            "Core Mass Percent =  33.038\n",
            "\n",
            "Your closest grid filename is:  0.07CaMg_0.00FeMg_0.09AlMg_0.9SiMg_0.0NaMg_0.00Fe_U/LM_results.txt\n",
            "\n",
            "\n",
            "Core composition:  {'Fe': np.float64(99.0), 'Si': np.float64(0.0), 'O': np.float64(1.0), 'S': np.float64(0.0)}\n",
            "Mantle composition:  {'FeO': np.float64(0.0), 'SiO2': np.float64(52.55497015), 'MgO': np.float64(39.17101638), 'CaO': np.float64(3.81493827), 'Al2O3': np.float64(4.45907521)}\n",
            "Mantle Fe# -0.0\n",
            "Core Mass Percent =  33.038\n",
            "\n",
            "The Upper mantle .tab already exists, please wait briefly for solution\n",
            "\n",
            "../Solutions_Small/0.07CaMg_0.00FeMg_0.09AlMg_0.9SiMg_0.0NaMg_0.00Fe\n",
            "The Lower mantle .tab already exists, please wait briefly for solution\n",
            "\n",
            "iteration # 1\n",
            "iteration # 2\n",
            "iteration # 3\n",
            "iteration # 4\n",
            "iteration # 5\n",
            "iteration # 6\n",
            "iteration # 7\n",
            "iteration # 8\n",
            "iteration # 9\n",
            "iteration # 10\n",
            "iteration # 11\n",
            "iteration # 12\n",
            "iteration # 13\n",
            "iteration # 14\n",
            "iteration # 15\n",
            "\n",
            "Mass =  1.374 Earth masses\n",
            "Radius =  1.095 Earth radii\n",
            "Core Mass Fraction =  33.17\n",
            "Core Radius Fraction =  53.21\n",
            "CMB Pressure =  185.69 GPa\n",
            "number of oceans: 0.00\n",
            "\n",
            "Detailed data file written to: high_wFEO_Radius_1.09.txt\n",
            "\n",
            "Figure(1200x1000)\n",
            "\n",
            "Core composition:  {'Fe': np.float64(95.0), 'Si': np.float64(0.0), 'O': np.float64(5.0), 'S': np.float64(0.0)}\n",
            "Mantle composition:  {'FeO': np.float64(0.0), 'SiO2': np.float64(52.55497015), 'MgO': np.float64(39.17101638), 'CaO': np.float64(3.81493827), 'Al2O3': np.float64(4.45907521)}\n",
            "Mantle Fe# -0.0\n",
            "Core Mass Percent =  33.957\n",
            "\n",
            "Your closest grid filename is:  0.07CaMg_0.00FeMg_0.09AlMg_0.9SiMg_0.0NaMg_0.00Fe_U/LM_results.txt\n",
            "\n",
            "\n",
            "Core composition:  {'Fe': np.float64(95.0), 'Si': np.float64(0.0), 'O': np.float64(5.0), 'S': np.float64(0.0)}\n",
            "Mantle composition:  {'FeO': np.float64(0.0), 'SiO2': np.float64(52.55497015), 'MgO': np.float64(39.17101638), 'CaO': np.float64(3.81493827), 'Al2O3': np.float64(4.45907521)}\n",
            "Mantle Fe# -0.0\n",
            "Core Mass Percent =  33.957\n",
            "\n",
            "The Upper mantle .tab already exists, please wait briefly for solution\n",
            "\n",
            "../Solutions_Small/0.07CaMg_0.00FeMg_0.09AlMg_0.9SiMg_0.0NaMg_0.00Fe\n",
            "The Lower mantle .tab already exists, please wait briefly for solution\n",
            "\n",
            "iteration # 1\n",
            "iteration # 2\n",
            "iteration # 3\n",
            "iteration # 4\n",
            "iteration # 5\n",
            "iteration # 6\n",
            "iteration # 7\n",
            "iteration # 8\n",
            "iteration # 9\n",
            "iteration # 10\n",
            "iteration # 11\n",
            "iteration # 12\n",
            "iteration # 13\n",
            "iteration # 14\n",
            "iteration # 15\n",
            "\n",
            "Mass =  1.374 Earth masses\n",
            "Radius =  1.102 Earth radii\n",
            "Core Mass Fraction =  34.09\n",
            "Core Radius Fraction =  55.50\n",
            "CMB Pressure =  169.75 GPa\n",
            "number of oceans: 0.00\n",
            "\n",
            "Detailed data file written to: high_wFEO_Radius_1.10.txt\n",
            "\n",
            "Figure(1200x1000)\n",
            "\n",
            "Core composition:  {'Fe': np.float64(90.0), 'Si': np.float64(0.0), 'O': np.float64(10.0), 'S': np.float64(0.0)}\n",
            "Mantle composition:  {'FeO': np.float64(0.0), 'SiO2': np.float64(52.55497015), 'MgO': np.float64(39.17101638), 'CaO': np.float64(3.81493827), 'Al2O3': np.float64(4.45907521)}\n",
            "Mantle Fe# -0.0\n",
            "Core Mass Percent =  35.180\n",
            "\n",
            "Your closest grid filename is:  0.07CaMg_0.00FeMg_0.09AlMg_0.9SiMg_0.0NaMg_0.00Fe_U/LM_results.txt\n",
            "\n",
            "\n",
            "Core composition:  {'Fe': np.float64(90.0), 'Si': np.float64(0.0), 'O': np.float64(10.0), 'S': np.float64(0.0)}\n",
            "Mantle composition:  {'FeO': np.float64(0.0), 'SiO2': np.float64(52.55497015), 'MgO': np.float64(39.17101638), 'CaO': np.float64(3.81493827), 'Al2O3': np.float64(4.45907521)}\n",
            "Mantle Fe# -0.0\n",
            "Core Mass Percent =  35.180\n",
            "\n",
            "The Upper mantle .tab already exists, please wait briefly for solution\n",
            "\n",
            "../Solutions_Small/0.07CaMg_0.00FeMg_0.09AlMg_0.9SiMg_0.0NaMg_0.00Fe\n",
            "The Lower mantle .tab already exists, please wait briefly for solution\n",
            "\n",
            "iteration # 1\n",
            "iteration # 2\n",
            "iteration # 3\n",
            "iteration # 4\n",
            "iteration # 5\n",
            "iteration # 6\n",
            "iteration # 7\n",
            "iteration # 8\n",
            "iteration # 9\n",
            "iteration # 10\n",
            "iteration # 11\n",
            "iteration # 12\n",
            "iteration # 13\n",
            "iteration # 14\n",
            "iteration # 15\n",
            "\n",
            "Mass =  1.374 Earth masses\n",
            "Radius =  1.111 Earth radii\n",
            "Core Mass Fraction =  35.31\n",
            "Core Radius Fraction =  58.23\n",
            "CMB Pressure =  152.12 GPa\n",
            "number of oceans: 0.00\n",
            "\n",
            "Detailed data file written to: high_wFEO_Radius_1.11.txt\n",
            "\n",
            "Figure(1200x1000)\n",
            "\n",
            "Core composition:  {'Fe': np.float64(85.0), 'Si': np.float64(0.0), 'O': np.float64(15.0), 'S': np.float64(0.0)}\n",
            "Mantle composition:  {'FeO': np.float64(0.0), 'SiO2': np.float64(52.55497015), 'MgO': np.float64(39.17101638), 'CaO': np.float64(3.81493827), 'Al2O3': np.float64(4.45907521)}\n",
            "Mantle Fe# -0.0\n",
            "Core Mass Percent =  36.494\n",
            "\n",
            "Your closest grid filename is:  0.07CaMg_0.00FeMg_0.09AlMg_0.9SiMg_0.0NaMg_0.00Fe_U/LM_results.txt\n",
            "\n",
            "\n",
            "Core composition:  {'Fe': np.float64(85.0), 'Si': np.float64(0.0), 'O': np.float64(15.0), 'S': np.float64(0.0)}\n",
            "Mantle composition:  {'FeO': np.float64(0.0), 'SiO2': np.float64(52.55497015), 'MgO': np.float64(39.17101638), 'CaO': np.float64(3.81493827), 'Al2O3': np.float64(4.45907521)}\n",
            "Mantle Fe# -0.0\n",
            "Core Mass Percent =  36.494\n",
            "\n",
            "The Upper mantle .tab already exists, please wait briefly for solution\n",
            "\n",
            "../Solutions_Small/0.07CaMg_0.00FeMg_0.09AlMg_0.9SiMg_0.0NaMg_0.00Fe\n",
            "The Lower mantle .tab already exists, please wait briefly for solution\n",
            "\n",
            "iteration # 1\n",
            "iteration # 2\n",
            "iteration # 3\n",
            "iteration # 4\n",
            "iteration # 5\n",
            "iteration # 6\n",
            "iteration # 7\n",
            "iteration # 8\n",
            "iteration # 9\n",
            "iteration # 10\n",
            "iteration # 11\n",
            "iteration # 12\n",
            "iteration # 13\n",
            "iteration # 14\n",
            "iteration # 15\n",
            "\n",
            "Mass =  1.374 Earth masses\n",
            "Radius =  1.121 Earth radii\n",
            "Core Mass Fraction =  36.62\n",
            "Core Radius Fraction =  60.84\n",
            "CMB Pressure =  136.53 GPa\n",
            "number of oceans: 0.00\n",
            "\n",
            "Detailed data file written to: high_wFEO_Radius_1.12.txt\n",
            "\n",
            "Figure(1200x1000)\n",
            "\n",
            "Core composition:  {'Fe': np.float64(80.0), 'Si': np.float64(0.0), 'O': np.float64(20.0), 'S': np.float64(0.0)}\n",
            "Mantle composition:  {'FeO': np.float64(0.0), 'SiO2': np.float64(52.55497015), 'MgO': np.float64(39.17101638), 'CaO': np.float64(3.81493827), 'Al2O3': np.float64(4.45907521)}\n",
            "Mantle Fe# -0.0\n",
            "Core Mass Percent =  37.910\n",
            "\n",
            "Your closest grid filename is:  0.07CaMg_0.00FeMg_0.09AlMg_0.9SiMg_0.0NaMg_0.00Fe_U/LM_results.txt\n",
            "\n",
            "\n",
            "Core composition:  {'Fe': np.float64(80.0), 'Si': np.float64(0.0), 'O': np.float64(20.0), 'S': np.float64(0.0)}\n",
            "Mantle composition:  {'FeO': np.float64(0.0), 'SiO2': np.float64(52.55497015), 'MgO': np.float64(39.17101638), 'CaO': np.float64(3.81493827), 'Al2O3': np.float64(4.45907521)}\n",
            "Mantle Fe# -0.0\n",
            "Core Mass Percent =  37.910\n",
            "\n",
            "The Upper mantle .tab already exists, please wait briefly for solution\n",
            "\n",
            "../Solutions_Small/0.07CaMg_0.00FeMg_0.09AlMg_0.9SiMg_0.0NaMg_0.00Fe\n",
            "The Lower mantle .tab already exists, please wait briefly for solution\n",
            "\n",
            "iteration # 1\n",
            "iteration # 2\n",
            "iteration # 3\n",
            "iteration # 4\n",
            "iteration # 5\n",
            "iteration # 6\n",
            "iteration # 7\n",
            "iteration # 8\n",
            "iteration # 9\n",
            "iteration # 10\n",
            "iteration # 11\n",
            "iteration # 12\n",
            "iteration # 13\n",
            "iteration # 14\n",
            "iteration # 15\n",
            "\n",
            "Mass =  1.374 Earth masses\n",
            "Radius =  1.132 Earth radii\n",
            "Core Mass Fraction =  38.03\n",
            "Core Radius Fraction =  63.37\n",
            "CMB Pressure =  122.55 GPa\n",
            "number of oceans: 0.00\n",
            "\n",
            "Detailed data file written to: high_wFEO_Radius_1.13.txt\n",
            "\n",
            "Figure(1200x1000)\n"
          ]
        }
      ],
      "source": [
        "!python Group_X.py --mass=1.374 --FeMg=0.9 --wt_frac_O_core=0.01\n",
        "!python Group_X.py --mass=1.374 --FeMg=0.9 --wt_frac_O_core=0.05\n",
        "!python Group_X.py --mass=1.374 --FeMg=0.9 --wt_frac_O_core=0.10\n",
        "!python Group_X.py --mass=1.374 --FeMg=0.9 --wt_frac_O_core=0.15\n",
        "!python Group_X.py --mass=1.374 --FeMg=0.9 --wt_frac_O_core=0.20\n"
      ]
    },
    {
      "cell_type": "markdown",
      "metadata": {
        "id": "7jQlIax9R-Fo"
      },
      "source": [
        "**Changing Sulfur**"
      ]
    },
    {
      "cell_type": "code",
      "execution_count": null,
      "metadata": {
        "colab": {
          "base_uri": "https://localhost:8080/"
        },
        "id": "PyyiwbfsTB8j",
        "outputId": "f73a91ba-3dbb-4a10-8f13-497ef984e5bc"
      },
      "outputs": [
        {
          "output_type": "stream",
          "name": "stdout",
          "text": [
            "\n",
            "Core composition:  {'Fe': np.float64(99.0), 'Si': np.float64(0.0), 'O': np.float64(0.0), 'S': np.float64(1.0)}\n",
            "Mantle composition:  {'FeO': np.float64(0.0), 'SiO2': np.float64(52.55497015), 'MgO': np.float64(39.17101638), 'CaO': np.float64(3.81493827), 'Al2O3': np.float64(4.45907521)}\n",
            "Mantle Fe# -0.0\n",
            "Core Mass Percent =  33.038\n",
            "\n",
            "Your closest grid filename is:  0.07CaMg_0.00FeMg_0.09AlMg_0.9SiMg_0.0NaMg_0.00Fe_U/LM_results.txt\n",
            "\n",
            "\n",
            "Core composition:  {'Fe': np.float64(99.0), 'Si': np.float64(0.0), 'O': np.float64(0.0), 'S': np.float64(1.0)}\n",
            "Mantle composition:  {'FeO': np.float64(0.0), 'SiO2': np.float64(52.55497015), 'MgO': np.float64(39.17101638), 'CaO': np.float64(3.81493827), 'Al2O3': np.float64(4.45907521)}\n",
            "Mantle Fe# -0.0\n",
            "Core Mass Percent =  33.038\n",
            "\n",
            "The Upper mantle .tab already exists, please wait briefly for solution\n",
            "\n",
            "../Solutions_Small/0.07CaMg_0.00FeMg_0.09AlMg_0.9SiMg_0.0NaMg_0.00Fe\n",
            "The Lower mantle .tab already exists, please wait briefly for solution\n",
            "\n",
            "iteration # 1\n",
            "iteration # 2\n",
            "iteration # 3\n",
            "iteration # 4\n",
            "iteration # 5\n",
            "iteration # 6\n",
            "iteration # 7\n",
            "iteration # 8\n",
            "iteration # 9\n",
            "iteration # 10\n",
            "iteration # 11\n",
            "iteration # 12\n",
            "iteration # 13\n",
            "iteration # 14\n",
            "iteration # 15\n",
            "iteration # 16\n",
            "\n",
            "Mass =  1.374 Earth masses\n",
            "Radius =  1.093 Earth radii\n",
            "Core Mass Fraction =  33.17\n",
            "Core Radius Fraction =  52.90\n",
            "CMB Pressure =  188.42 GPa\n",
            "number of oceans: 0.00\n",
            "\n",
            "Detailed data file written to: high_wFEO_Radius_1.09.txt\n",
            "\n",
            "Figure(1200x1000)\n",
            "\n",
            "Core composition:  {'Fe': np.float64(95.0), 'Si': np.float64(0.0), 'O': np.float64(0.0), 'S': np.float64(5.0)}\n",
            "Mantle composition:  {'FeO': np.float64(0.0), 'SiO2': np.float64(52.55497015), 'MgO': np.float64(39.17101638), 'CaO': np.float64(3.81493827), 'Al2O3': np.float64(4.45907521)}\n",
            "Mantle Fe# -0.0\n",
            "Core Mass Percent =  33.957\n",
            "\n",
            "Your closest grid filename is:  0.07CaMg_0.00FeMg_0.09AlMg_0.9SiMg_0.0NaMg_0.00Fe_U/LM_results.txt\n",
            "\n",
            "\n",
            "Core composition:  {'Fe': np.float64(95.0), 'Si': np.float64(0.0), 'O': np.float64(0.0), 'S': np.float64(5.0)}\n",
            "Mantle composition:  {'FeO': np.float64(0.0), 'SiO2': np.float64(52.55497015), 'MgO': np.float64(39.17101638), 'CaO': np.float64(3.81493827), 'Al2O3': np.float64(4.45907521)}\n",
            "Mantle Fe# -0.0\n",
            "Core Mass Percent =  33.957\n",
            "\n",
            "The Upper mantle .tab already exists, please wait briefly for solution\n",
            "\n",
            "../Solutions_Small/0.07CaMg_0.00FeMg_0.09AlMg_0.9SiMg_0.0NaMg_0.00Fe\n",
            "The Lower mantle .tab already exists, please wait briefly for solution\n",
            "\n",
            "iteration # 1\n",
            "iteration # 2\n",
            "iteration # 3\n",
            "iteration # 4\n",
            "iteration # 5\n",
            "iteration # 6\n",
            "iteration # 7\n",
            "iteration # 8\n",
            "iteration # 9\n",
            "iteration # 10\n",
            "iteration # 11\n",
            "iteration # 12\n",
            "iteration # 13\n",
            "iteration # 14\n",
            "iteration # 15\n",
            "\n",
            "Mass =  1.374 Earth masses\n",
            "Radius =  1.093 Earth radii\n",
            "Core Mass Fraction =  34.09\n",
            "Core Radius Fraction =  54.03\n",
            "CMB Pressure =  182.21 GPa\n",
            "number of oceans: 0.00\n",
            "\n",
            "Detailed data file written to: high_wFEO_Radius_1.09.txt\n",
            "\n",
            "Figure(1200x1000)\n",
            "\n",
            "Core composition:  {'Fe': np.float64(90.0), 'Si': np.float64(0.0), 'O': np.float64(0.0), 'S': np.float64(10.0)}\n",
            "Mantle composition:  {'FeO': np.float64(0.0), 'SiO2': np.float64(52.55497015), 'MgO': np.float64(39.17101638), 'CaO': np.float64(3.81493827), 'Al2O3': np.float64(4.45907521)}\n",
            "Mantle Fe# -0.0\n",
            "Core Mass Percent =  35.180\n",
            "\n",
            "Your closest grid filename is:  0.07CaMg_0.00FeMg_0.09AlMg_0.9SiMg_0.0NaMg_0.00Fe_U/LM_results.txt\n",
            "\n",
            "\n",
            "Core composition:  {'Fe': np.float64(90.0), 'Si': np.float64(0.0), 'O': np.float64(0.0), 'S': np.float64(10.0)}\n",
            "Mantle composition:  {'FeO': np.float64(0.0), 'SiO2': np.float64(52.55497015), 'MgO': np.float64(39.17101638), 'CaO': np.float64(3.81493827), 'Al2O3': np.float64(4.45907521)}\n",
            "Mantle Fe# -0.0\n",
            "Core Mass Percent =  35.180\n",
            "\n",
            "The Upper mantle .tab already exists, please wait briefly for solution\n",
            "\n",
            "../Solutions_Small/0.07CaMg_0.00FeMg_0.09AlMg_0.9SiMg_0.0NaMg_0.00Fe\n",
            "The Lower mantle .tab already exists, please wait briefly for solution\n",
            "\n",
            "iteration # 1\n",
            "iteration # 2\n",
            "iteration # 3\n",
            "iteration # 4\n",
            "iteration # 5\n",
            "iteration # 6\n",
            "iteration # 7\n",
            "iteration # 8\n",
            "iteration # 9\n",
            "iteration # 10\n",
            "iteration # 11\n",
            "iteration # 12\n",
            "iteration # 13\n",
            "iteration # 14\n",
            "iteration # 15\n",
            "\n",
            "Mass =  1.374 Earth masses\n",
            "Radius =  1.094 Earth radii\n",
            "Core Mass Fraction =  35.31\n",
            "Core Radius Fraction =  55.46\n",
            "CMB Pressure =  174.46 GPa\n",
            "number of oceans: 0.00\n",
            "\n",
            "Detailed data file written to: high_wFEO_Radius_1.09.txt\n",
            "\n",
            "Figure(1200x1000)\n",
            "\n",
            "Core composition:  {'Fe': np.float64(85.0), 'Si': np.float64(0.0), 'O': np.float64(0.0), 'S': np.float64(15.0)}\n",
            "Mantle composition:  {'FeO': np.float64(0.0), 'SiO2': np.float64(52.55497015), 'MgO': np.float64(39.17101638), 'CaO': np.float64(3.81493827), 'Al2O3': np.float64(4.45907521)}\n",
            "Mantle Fe# -0.0\n",
            "Core Mass Percent =  36.494\n",
            "\n",
            "Your closest grid filename is:  0.07CaMg_0.00FeMg_0.09AlMg_0.9SiMg_0.0NaMg_0.00Fe_U/LM_results.txt\n",
            "\n",
            "\n",
            "Core composition:  {'Fe': np.float64(85.0), 'Si': np.float64(0.0), 'O': np.float64(0.0), 'S': np.float64(15.0)}\n",
            "Mantle composition:  {'FeO': np.float64(0.0), 'SiO2': np.float64(52.55497015), 'MgO': np.float64(39.17101638), 'CaO': np.float64(3.81493827), 'Al2O3': np.float64(4.45907521)}\n",
            "Mantle Fe# -0.0\n",
            "Core Mass Percent =  36.494\n",
            "\n",
            "The Upper mantle .tab already exists, please wait briefly for solution\n",
            "\n",
            "../Solutions_Small/0.07CaMg_0.00FeMg_0.09AlMg_0.9SiMg_0.0NaMg_0.00Fe\n",
            "The Lower mantle .tab already exists, please wait briefly for solution\n",
            "\n",
            "iteration # 1\n",
            "iteration # 2\n",
            "iteration # 3\n",
            "iteration # 4\n",
            "iteration # 5\n",
            "iteration # 6\n",
            "iteration # 7\n",
            "iteration # 8\n",
            "iteration # 9\n",
            "iteration # 10\n",
            "iteration # 11\n",
            "iteration # 12\n",
            "iteration # 13\n",
            "iteration # 14\n",
            "iteration # 15\n",
            "\n",
            "Mass =  1.374 Earth masses\n",
            "Radius =  1.094 Earth radii\n",
            "Core Mass Fraction =  36.62\n",
            "Core Radius Fraction =  56.93\n",
            "CMB Pressure =  166.70 GPa\n",
            "number of oceans: 0.00\n",
            "\n",
            "Detailed data file written to: high_wFEO_Radius_1.09.txt\n",
            "\n",
            "Figure(1200x1000)\n",
            "\n",
            "Core composition:  {'Fe': np.float64(80.0), 'Si': np.float64(0.0), 'O': np.float64(0.0), 'S': np.float64(20.0)}\n",
            "Mantle composition:  {'FeO': np.float64(0.0), 'SiO2': np.float64(52.55497015), 'MgO': np.float64(39.17101638), 'CaO': np.float64(3.81493827), 'Al2O3': np.float64(4.45907521)}\n",
            "Mantle Fe# -0.0\n",
            "Core Mass Percent =  37.910\n",
            "\n",
            "Your closest grid filename is:  0.07CaMg_0.00FeMg_0.09AlMg_0.9SiMg_0.0NaMg_0.00Fe_U/LM_results.txt\n",
            "\n",
            "\n",
            "Core composition:  {'Fe': np.float64(80.0), 'Si': np.float64(0.0), 'O': np.float64(0.0), 'S': np.float64(20.0)}\n",
            "Mantle composition:  {'FeO': np.float64(0.0), 'SiO2': np.float64(52.55497015), 'MgO': np.float64(39.17101638), 'CaO': np.float64(3.81493827), 'Al2O3': np.float64(4.45907521)}\n",
            "Mantle Fe# -0.0\n",
            "Core Mass Percent =  37.910\n",
            "\n",
            "The Upper mantle .tab already exists, please wait briefly for solution\n",
            "\n",
            "../Solutions_Small/0.07CaMg_0.00FeMg_0.09AlMg_0.9SiMg_0.0NaMg_0.00Fe\n",
            "The Lower mantle .tab already exists, please wait briefly for solution\n",
            "\n",
            "iteration # 1\n",
            "iteration # 2\n",
            "iteration # 3\n",
            "iteration # 4\n",
            "iteration # 5\n",
            "iteration # 6\n",
            "iteration # 7\n",
            "iteration # 8\n",
            "iteration # 9\n",
            "iteration # 10\n",
            "iteration # 11\n",
            "iteration # 12\n",
            "iteration # 13\n",
            "iteration # 14\n",
            "iteration # 15\n",
            "\n",
            "Mass =  1.374 Earth masses\n",
            "Radius =  1.095 Earth radii\n",
            "Core Mass Fraction =  38.03\n",
            "Core Radius Fraction =  58.45\n",
            "CMB Pressure =  158.92 GPa\n",
            "number of oceans: 0.00\n",
            "\n",
            "Detailed data file written to: high_wFEO_Radius_1.09.txt\n",
            "\n",
            "Figure(1200x1000)\n"
          ]
        }
      ],
      "source": [
        "!python Group_X.py --mass=1.374 --FeMg=0.9 --wt_frac_S_core=0.01\n",
        "!python Group_X.py --mass=1.374 --FeMg=0.9 --wt_frac_S_core=0.05\n",
        "!python Group_X.py --mass=1.374 --FeMg=0.9 --wt_frac_S_core=0.10\n",
        "!python Group_X.py --mass=1.374 --FeMg=0.9 --wt_frac_S_core=0.15\n",
        "!python Group_X.py --mass=1.374 --FeMg=0.9 --wt_frac_S_core=0.20\n"
      ]
    },
    {
      "cell_type": "markdown",
      "metadata": {
        "id": "MtX-nCpJW6s6"
      },
      "source": [
        "## **WARMUP #5**"
      ]
    },
    {
      "cell_type": "markdown",
      "metadata": {
        "id": "Aco-DffbW90J"
      },
      "source": [
        "Looked at 'high_wFEO_Radius_0.42.tsv' file and found the most abundant minerals as a function of depth."
      ]
    },
    {
      "cell_type": "markdown",
      "metadata": {
        "id": "x0E_ZO2uXM4b"
      },
      "source": [
        "Going to plot the most abundant minerals vs. depth"
      ]
    },
    {
      "cell_type": "code",
      "execution_count": null,
      "metadata": {
        "colab": {
          "base_uri": "https://localhost:8080/",
          "height": 607
        },
        "id": "V1KacLMjfhNX",
        "outputId": "d71d49f4-c8e1-4f6d-d67c-2be5d0dcec85"
      },
      "outputs": [
        {
          "output_type": "display_data",
          "data": {
            "text/plain": [
              "<Figure size 800x600 with 1 Axes>"
            ],
            "image/png": "[encoded data removed]"
          },
          "metadata": {}
        }
      ],
      "source": [
        "import pandas as pd\n",
        "import matplotlib.pyplot as plt\n",
        "\n",
        "# Load the data\n",
        "df = pd.read_csv('high_wFEO_Radius_0.42.tsv', sep='\\t')\n",
        "\n",
        "# Drop non-mineral columns to isolate mineral data\n",
        "non_mineral_cols = ['# Depth', 'Radius', 'Density', 'Pressure', 'Temperature']\n",
        "mineral_df = df.drop(columns=non_mineral_cols)\n",
        "\n",
        "# Find average abundance of each mineral\n",
        "mean_abundance = mineral_df.mean().sort_values(ascending=False)\n",
        "\n",
        "# Get the top 3 most abundant minerals\n",
        "top_minerals = mean_abundance.head(3).index.tolist()\n",
        "\n",
        "# Plotting\n",
        "plt.figure(figsize=(8, 6))\n",
        "for mineral in top_minerals:\n",
        "    plt.plot(df['# Depth'], df[mineral], label=mineral)\n",
        "\n",
        "plt.gca().invert_xaxis()  # Depth increases downward\n",
        "plt.xlabel('Depth (km)')\n",
        "plt.ylabel('Mass Fraction')\n",
        "plt.title('Top 3 Most Abundant Minerals vs. Depth')\n",
        "plt.legend()\n",
        "plt.grid(True)\n",
        "plt.tight_layout()\n",
        "plt.show()\n"
      ]
    },
    {
      "cell_type": "markdown",
      "metadata": {
        "id": "R1Imf2baX30z"
      },
      "source": [
        "Let's focus on **Olivine** for the SiMg comparison."
      ]
    },
    {
      "cell_type": "markdown",
      "metadata": {
        "id": "d8VOJutnpxqk"
      },
      "source": [
        "**Not sure how to manipulate things to see how Olivine changes as SiMg changes...come back Hannah**"
      ]
    },
    {
      "cell_type": "code",
      "source": [
        "!python Group_X.py --mass=1.374 --SiMg=2"
      ],
      "metadata": {
        "colab": {
          "base_uri": "https://localhost:8080/"
        },
        "id": "E3JjwSHIeXiR",
        "outputId": "49664dfa-e6c0-4f7b-c194-e1f27780c58b"
      },
      "execution_count": null,
      "outputs": [
        {
          "output_type": "stream",
          "name": "stdout",
          "text": [
            "\n",
            "Core composition:  {'Fe': np.float64(100.0), 'Si': np.float64(0.0), 'O': np.float64(0.0), 'S': np.float64(0.0)}\n",
            "Mantle composition:  {'FeO': np.float64(0.0), 'SiO2': np.float64(71.111297), 'MgO': np.float64(23.85075659), 'CaO': np.float64(2.32286962), 'Al2O3': np.float64(2.71507679)}\n",
            "Mantle Fe# -0.0\n",
            "Core Mass Percent =  22.924\n",
            "\n",
            "Your closest grid filename is:  0.07CaMg_0.00FeMg_0.09AlMg_2.0SiMg_0.0NaMg_0.00Fe_U/LM_results.txt\n",
            "\n",
            "\n",
            "Core composition:  {'Fe': np.float64(100.0), 'Si': np.float64(0.0), 'O': np.float64(0.0), 'S': np.float64(0.0)}\n",
            "Mantle composition:  {'FeO': np.float64(0.0), 'SiO2': np.float64(71.111297), 'MgO': np.float64(23.85075659), 'CaO': np.float64(2.32286962), 'Al2O3': np.float64(2.71507679)}\n",
            "Mantle Fe# -0.0\n",
            "Core Mass Percent =  22.924\n",
            "\n",
            "The Upper mantle .tab already exists, please wait briefly for solution\n",
            "\n",
            "../Solutions_Small/0.07CaMg_0.00FeMg_0.09AlMg_2.0SiMg_0.0NaMg_0.00Fe\n",
            "The Lower mantle .tab already exists, please wait briefly for solution\n",
            "\n",
            "iteration # 1\n",
            "iteration # 2\n",
            "iteration # 3\n",
            "iteration # 4\n",
            "iteration # 5\n",
            "iteration # 6\n",
            "iteration # 7\n",
            "iteration # 8\n",
            "iteration # 9\n",
            "iteration # 10\n",
            "iteration # 11\n",
            "iteration # 12\n",
            "iteration # 13\n",
            "iteration # 14\n",
            "iteration # 15\n",
            "\n",
            "Mass =  1.374 Earth masses\n",
            "Radius =  1.115 Earth radii\n",
            "Core Mass Fraction =  23.08\n",
            "Core Radius Fraction =  45.97\n",
            "CMB Pressure =  207.22 GPa\n",
            "number of oceans: 0.00\n",
            "\n",
            "Detailed data file written to: high_wFEO_Radius_1.11.txt\n",
            "\n",
            "Figure(1200x1000)\n"
          ]
        }
      ]
    },
    {
      "cell_type": "markdown",
      "metadata": {
        "id": "XbvC3QM0wAZC"
      },
      "source": [
        "# **TASK #1**"
      ]
    },
    {
      "cell_type": "markdown",
      "metadata": {
        "id": "vF1KmbldwEZS"
      },
      "source": [
        "Use Fe/H to calculate the molar ratios: Si/Mg and Fe/Mg."
      ]
    },
    {
      "cell_type": "code",
      "execution_count": null,
      "metadata": {
        "colab": {
          "base_uri": "https://localhost:8080/"
        },
        "id": "_Mwg2-bRwDIR",
        "outputId": "450e8662-f6de-4e7e-e65c-d675277b803a"
      },
      "outputs": [
        {
          "output_type": "stream",
          "name": "stdout",
          "text": [
            "Using:\n",
            "  [Fe/H] = 0.04\n",
            "  [Mg/H] = -0.008\n",
            "  [Si/H] = -0.007\n",
            "\n",
            "Linear abundances relative to solar:\n",
            "  Fe = 1.096\n",
            "  Mg = 0.982\n",
            "  Si = 0.984\n",
            "\n",
            "Molar ratios to use:\n",
            "  Fe/Mg = 1.005\n",
            "  Si/Mg = 0.902\n"
          ]
        }
      ],
      "source": [
        "# given online\n",
        "FeH = 0.04\n",
        "\n",
        "# slopes I found from figure 3\n",
        "MgH = -0.2 * FeH\n",
        "SiH = -0.18 * FeH\n",
        "\n",
        "# convert to linear abundances\n",
        "Fe_rel = 10**FeH\n",
        "Mg_rel = 10**MgH\n",
        "Si_rel = 10**SiH\n",
        "\n",
        "# solar molar ratios\n",
        "Fe_Mg_solar = 0.9\n",
        "Si_Mg_solar = 0.9\n",
        "\n",
        "# scaled molar ratios\n",
        "Fe_Mg = Fe_Mg_solar * (Fe_rel / Mg_rel)\n",
        "Si_Mg = Si_Mg_solar * (Si_rel / Mg_rel)\n",
        "\n",
        "print(\"Using:\")\n",
        "print(f\"  [Fe/H] = {FeH}\")\n",
        "print(f\"  [Mg/H] = {MgH:.3f}\")\n",
        "print(f\"  [Si/H] = {SiH:.3f}\\n\")\n",
        "\n",
        "print(\"Linear abundances relative to solar:\")\n",
        "print(f\"  Fe = {Fe_rel:.3f}\")\n",
        "print(f\"  Mg = {Mg_rel:.3f}\")\n",
        "print(f\"  Si = {Si_rel:.3f}\\n\")\n",
        "\n",
        "print(\"Molar ratios to use:\")\n",
        "print(f\"  Fe/Mg = {Fe_Mg:.3f}\")\n",
        "print(f\"  Si/Mg = {Si_Mg:.3f}\")\n",
        "\n",
        "\n",
        "\n"
      ]
    },
    {
      "cell_type": "markdown",
      "metadata": {
        "id": "L15zrIMI14_W"
      },
      "source": [
        "Now that we found the molar ratios to use, let's plug those into ExoPlex."
      ]
    },
    {
      "cell_type": "code",
      "execution_count": null,
      "metadata": {
        "colab": {
          "base_uri": "https://localhost:8080/"
        },
        "id": "3hJIsDNe1iFw",
        "outputId": "c1d0b0ca-7706-4e48-cb07-67ab9f7b2f36"
      },
      "outputs": [
        {
          "output_type": "stream",
          "name": "stdout",
          "text": [
            "\n",
            "Core composition:  {'Fe': np.float64(100.0), 'Si': np.float64(0.0), 'O': np.float64(0.0), 'S': np.float64(0.0)}\n",
            "Mantle composition:  {'FeO': np.float64(0.67570136), 'SiO2': np.float64(51.04394125), 'MgO': np.float64(39.86066983), 'CaO': np.float64(3.8821049), 'Al2O3': np.float64(4.53758266)}\n",
            "Mantle Fe# 0.009420411882992736\n",
            "Core Mass Percent =  34.209\n",
            "\n",
            "Your closest grid filename is:  0.07CaMg_0.00FeMg_0.09AlMg_0.9SiMg_0.0NaMg_0.00Fe_U/LM_results.txt\n",
            "\n",
            "\n",
            "Core composition:  {'Fe': np.float64(100.0), 'Si': np.float64(0.0), 'O': np.float64(0.0), 'S': np.float64(0.0)}\n",
            "Mantle composition:  {'FeO': np.float64(0.67570136), 'SiO2': np.float64(51.04394125), 'MgO': np.float64(39.86066983), 'CaO': np.float64(3.8821049), 'Al2O3': np.float64(4.53758266)}\n",
            "Mantle Fe# 0.009420411882992736\n",
            "Core Mass Percent =  34.209\n",
            "\n",
            "The Upper mantle .tab already exists, please wait briefly for solution\n",
            "\n",
            "../Solutions_Small/0.07CaMg_0.00FeMg_0.09AlMg_0.9SiMg_0.0NaMg_0.00Fe\n",
            "The Lower mantle .tab already exists, please wait briefly for solution\n",
            "\n",
            "iteration # 1\n",
            "iteration # 2\n",
            "iteration # 3\n",
            "iteration # 4\n",
            "iteration # 5\n",
            "iteration # 6\n",
            "iteration # 7\n",
            "iteration # 8\n",
            "iteration # 9\n",
            "iteration # 10\n",
            "iteration # 11\n",
            "iteration # 12\n",
            "iteration # 13\n",
            "iteration # 14\n",
            "iteration # 15\n",
            "iteration # 16\n",
            "\n",
            "Mass =  1.374 Earth masses\n",
            "Radius =  1.089 Earth radii\n",
            "Core Mass Fraction =  34.34\n",
            "Core Radius Fraction =  53.53\n",
            "CMB Pressure =  187.59 GPa\n",
            "number of oceans: 0.00\n",
            "\n",
            "Detailed data file written to: high_wFEO_Radius_1.09.txt\n",
            "\n",
            "Figure(1200x1000)\n"
          ]
        }
      ],
      "source": [
        "# I am using the mass of the Trappist 1b exoplanet??\n",
        "\n",
        "#!python Group_X.py --mass = 1.374 --FeMg = 0.951 --SiMg = 0.859 --mol_frac_Fe_mantle = 0.01 --wt_frac_Si_core = 0.0\n",
        "!python Group_X.py --mass=1.374 --FeMg=0.951 --mol_frac_Fe_mantle=0.01 --wt_frac_Si_core=0.0 --SiMg=0.859"
      ]
    },
    {
      "cell_type": "markdown",
      "source": [
        "# **TASK #2**"
      ],
      "metadata": {
        "id": "UqMb0ScalatB"
      }
    },
    {
      "cell_type": "markdown",
      "source": [
        "We are going to plot our exoplanet TRAPPIST 1b with the other planets in our Solar System. This code generates a graph."
      ],
      "metadata": {
        "id": "wJ2izkZOlgln"
      }
    },
    {
      "cell_type": "code",
      "source": [
        "import matplotlib.pyplot as plt\n",
        "import numpy as np\n",
        "from matplotlib.ticker import ScalarFormatter\n",
        "\n",
        "# Planet names (rocky planets + TRAPPIST-1b)\n",
        "planets = [\"Mercury\", \"Venus\", \"Earth\", \"Mars\", \"TRAPPIST-1b\"]\n",
        "\n",
        "# Radii in kilometers\n",
        "radii_km = [2439.7, 6051.8, 6371, 3389.5, 1.116 * 6371]\n",
        "\n",
        "# Masses in kilograms\n",
        "masses_kg = [\n",
        "    3.3011e23, 4.8675e24, 5.97237e24, 6.4171e23,\n",
        "    1.374 * 5.97237e24\n",
        "]\n",
        "\n",
        "# Separate Solar System rocky planets and TRAPPIST-1b\n",
        "solar_planets = planets[:-1]\n",
        "solar_radii_km = radii_km[:-1]\n",
        "solar_masses_kg = masses_kg[:-1]\n",
        "trappist_radius_km = radii_km[-1]\n",
        "trappist_mass_kg = masses_kg[-1]\n",
        "\n",
        "# Create figure and subplots\n",
        "fig, (ax1, ax2) = plt.subplots(2, 1, figsize=(10, 8), sharex=True, gridspec_kw={'hspace': 0.3})\n",
        "\n",
        "# Top: Radius vs Planet\n",
        "ax1.scatter(solar_planets, solar_radii_km, color='mediumseagreen', s=100, label=\"Rocky Planets\", marker='o')\n",
        "ax1.scatter(\"TRAPPIST-1b\", trappist_radius_km, color='dodgerblue', marker='*', s=300, label=\"TRAPPIST-1b\")\n",
        "ax1.set_ylabel(\"Radius (km)\")\n",
        "ax1.set_title(\"Rocky Planet Radius and Mass Comparison (in Actual Units)\")\n",
        "ax1.legend()\n",
        "ax1.grid(axis='y', linestyle='--', alpha=0.5)\n",
        "ax1.yaxis.set_major_formatter(ScalarFormatter(useMathText=True))\n",
        "ax1.ticklabel_format(style='sci', axis='y', scilimits=(3, 4))\n",
        "\n",
        "# Bottom: Mass vs Planet\n",
        "ax2.scatter(solar_planets, solar_masses_kg, color='mediumpurple', s=100, label=\"Rocky Planets\", marker='o')\n",
        "ax2.scatter(\"TRAPPIST-1b\", trappist_mass_kg, color='dodgerblue', marker='*', s=300, label=\"TRAPPIST-1b\")\n",
        "ax2.set_ylabel(\"Mass (kg)\")\n",
        "ax2.set_xlabel(\"Planets\")\n",
        "ax2.legend()\n",
        "ax2.grid(axis='y', linestyle='--', alpha=0.5)\n",
        "\n",
        "# Force scientific notation on y-axis\n",
        "formatter = ScalarFormatter(useMathText=True)\n",
        "formatter.set_scientific(True)\n",
        "formatter.set_powerlimits((0, 0))  # Always use sci notation\n",
        "ax2.yaxis.set_major_formatter(formatter)\n",
        "\n",
        "# Rotate x-axis labels\n",
        "plt.setp(ax2.get_xticklabels(), rotation=45)\n",
        "\n",
        "# Show plot\n",
        "plt.show()\n"
      ],
      "metadata": {
        "colab": {
          "base_uri": "https://localhost:8080/",
          "height": 775
        },
        "id": "Q5u2_U1QnH_f",
        "outputId": "febb31d3-79c4-4a1b-8b95-764428cf253d"
      },
      "execution_count": null,
      "outputs": [
        {
          "output_type": "display_data",
          "data": {
            "text/plain": [
              "<Figure size 1000x800 with 2 Axes>"
            ],
            "image/png": "[encoded data removed]"
          },
          "metadata": {}
        }
      ]
    },
    {
      "cell_type": "code",
      "source": [
        "# Surface irradiation in Earth units\n",
        "irradiation = [6.67, 1.91, 1.0, 0.43, 4.25]  # Mercury to TRAPPIST-1b\n",
        "\n",
        "# Update figure with 3 subplots\n",
        "fig, (ax1, ax2, ax3) = plt.subplots(3, 1, figsize=(10, 10), sharex=True, gridspec_kw={'hspace': 0.4})\n",
        "\n",
        "# Subplot 1: Radius\n",
        "ax1.scatter(planets[:-1], radii_km[:-1], color='mediumseagreen', s=100, label=\"Rocky Planets\", marker='o')\n",
        "ax1.scatter(\"TRAPPIST-1b\", radii_km[-1], color='dodgerblue', marker='*', s=300, label=\"TRAPPIST-1b\")\n",
        "ax1.set_ylabel(\"Radius (km)\")\n",
        "ax1.set_title(\"Rocky Planet Radius, Mass, and Surface Irradiation\")\n",
        "ax1.legend()\n",
        "ax1.grid(axis='y', linestyle='--', alpha=0.5)\n",
        "ax1.yaxis.set_major_formatter(ScalarFormatter(useMathText=True))\n",
        "ax1.ticklabel_format(style='sci', axis='y', scilimits=(3, 4))\n",
        "\n",
        "# Subplot 2: Mass\n",
        "ax2.scatter(planets[:-1], masses_kg[:-1], color='mediumpurple', s=100, label=\"Rocky Planets\", marker='o')\n",
        "ax2.scatter(\"TRAPPIST-1b\", masses_kg[-1], color='dodgerblue', marker='*', s=300, label=\"TRAPPIST-1b\")\n",
        "ax2.set_ylabel(\"Mass (kg)\")\n",
        "ax2.legend()\n",
        "ax2.grid(axis='y', linestyle='--', alpha=0.5)\n",
        "formatter = ScalarFormatter(useMathText=True)\n",
        "formatter.set_scientific(True)\n",
        "formatter.set_powerlimits((0, 0))\n",
        "ax2.yaxis.set_major_formatter(formatter)\n",
        "\n",
        "# Subplot 3: Surface Irradiation\n",
        "ax3.bar(planets, irradiation, color='goldenrod')\n",
        "ax3.set_ylabel(\"Surface Irradiation (Earth = 1)\")\n",
        "ax3.set_xlabel(\"Planets\")\n",
        "ax3.grid(axis='y', linestyle='--', alpha=0.5)\n",
        "\n",
        "# Rotate x labels\n",
        "plt.setp(ax3.get_xticklabels(), rotation=45)\n",
        "\n",
        "# Show plot\n",
        "plt.show()\n"
      ],
      "metadata": {
        "colab": {
          "base_uri": "https://localhost:8080/",
          "height": 929
        },
        "id": "fkTx_cm7PGHZ",
        "outputId": "6cc7eb4e-7ade-49c3-8408-4c90f6055f09"
      },
      "execution_count": null,
      "outputs": [
        {
          "output_type": "display_data",
          "data": {
            "text/plain": [
              "<Figure size 1000x1000 with 3 Axes>"
            ],
            "image/png": "[encoded data removed]"
          },
          "metadata": {}
        }
      ]
    },
    {
      "cell_type": "markdown",
      "source": [
        "# **TASK #3**"
      ],
      "metadata": {
        "id": "AnNj4gDHwYj-"
      }
    },
    {
      "cell_type": "code",
      "source": [
        "#REMEMBER WE ARE USING TRAPPIST 1b\n",
        "# calculated values from task 1\n",
        "#FeMg = 1.005\n",
        "#Si/Mg = 0.902\n",
        "#mass = 1.305, 1.374, 1.443 Earth mass\n",
        "\n",
        "!python Group_X.py --mass=1.305 --FeMg=1.005 --SiMg=0.902\n",
        "!python Group_X.py --mass=1.374 --FeMg=1.005 --SiMg=0.902\n",
        "!python Group_X.py --mass=1.443 --FeMg=1.005 --SiMg=0.902\n"
      ],
      "metadata": {
        "colab": {
          "base_uri": "https://localhost:8080/"
        },
        "id": "1IE-40IlsUNa",
        "outputId": "fddbab5f-5ecf-4ea5-d27c-1ea84f2f8783"
      },
      "execution_count": null,
      "outputs": [
        {
          "output_type": "stream",
          "name": "stdout",
          "text": [
            "\n",
            "Core composition:  {'Fe': np.float64(100.0), 'Si': np.float64(0.0), 'O': np.float64(0.0), 'S': np.float64(0.0)}\n",
            "Mantle composition:  {'FeO': np.float64(0.0), 'SiO2': np.float64(52.61031601), 'MgO': np.float64(39.12532237), 'CaO': np.float64(3.81048804), 'Al2O3': np.float64(4.45387358)}\n",
            "Mantle Fe# -0.0\n",
            "Core Mass Percent =  35.267\n",
            "\n",
            "Your closest grid filename is:  0.07CaMg_0.00FeMg_0.09AlMg_0.9SiMg_0.0NaMg_0.00Fe_U/LM_results.txt\n",
            "\n",
            "\n",
            "Core composition:  {'Fe': np.float64(100.0), 'Si': np.float64(0.0), 'O': np.float64(0.0), 'S': np.float64(0.0)}\n",
            "Mantle composition:  {'FeO': np.float64(0.0), 'SiO2': np.float64(52.61031601), 'MgO': np.float64(39.12532237), 'CaO': np.float64(3.81048804), 'Al2O3': np.float64(4.45387358)}\n",
            "Mantle Fe# -0.0\n",
            "Core Mass Percent =  35.267\n",
            "\n",
            "The Upper mantle .tab already exists, please wait briefly for solution\n",
            "\n",
            "../Solutions_Small/0.07CaMg_0.00FeMg_0.09AlMg_0.9SiMg_0.0NaMg_0.00Fe\n",
            "The Lower mantle .tab already exists, please wait briefly for solution\n",
            "\n",
            "iteration # 1\n",
            "iteration # 2\n",
            "iteration # 3\n",
            "iteration # 4\n",
            "iteration # 5\n",
            "iteration # 6\n",
            "iteration # 7\n",
            "iteration # 8\n",
            "iteration # 9\n",
            "iteration # 10\n",
            "iteration # 11\n",
            "iteration # 12\n",
            "iteration # 13\n",
            "iteration # 14\n",
            "iteration # 15\n",
            "iteration # 16\n",
            "\n",
            "Mass =  1.305 Earth masses\n",
            "Radius =  1.071 Earth radii\n",
            "Core Mass Fraction =  35.40\n",
            "Core Radius Fraction =  54.27\n",
            "CMB Pressure =  176.98 GPa\n",
            "number of oceans: 0.00\n",
            "\n",
            "Detailed data file written to: high_wFEO_Radius_1.07.txt\n",
            "\n",
            "Figure(1200x1000)\n",
            "\n",
            "Core composition:  {'Fe': np.float64(100.0), 'Si': np.float64(0.0), 'O': np.float64(0.0), 'S': np.float64(0.0)}\n",
            "Mantle composition:  {'FeO': np.float64(0.0), 'SiO2': np.float64(52.61031601), 'MgO': np.float64(39.12532237), 'CaO': np.float64(3.81048804), 'Al2O3': np.float64(4.45387358)}\n",
            "Mantle Fe# -0.0\n",
            "Core Mass Percent =  35.267\n",
            "\n",
            "Your closest grid filename is:  0.07CaMg_0.00FeMg_0.09AlMg_0.9SiMg_0.0NaMg_0.00Fe_U/LM_results.txt\n",
            "\n",
            "\n",
            "Core composition:  {'Fe': np.float64(100.0), 'Si': np.float64(0.0), 'O': np.float64(0.0), 'S': np.float64(0.0)}\n",
            "Mantle composition:  {'FeO': np.float64(0.0), 'SiO2': np.float64(52.61031601), 'MgO': np.float64(39.12532237), 'CaO': np.float64(3.81048804), 'Al2O3': np.float64(4.45387358)}\n",
            "Mantle Fe# -0.0\n",
            "Core Mass Percent =  35.267\n",
            "\n",
            "The Upper mantle .tab already exists, please wait briefly for solution\n",
            "\n",
            "../Solutions_Small/0.07CaMg_0.00FeMg_0.09AlMg_0.9SiMg_0.0NaMg_0.00Fe\n",
            "The Lower mantle .tab already exists, please wait briefly for solution\n",
            "\n",
            "iteration # 1\n",
            "iteration # 2\n",
            "iteration # 3\n",
            "iteration # 4\n",
            "iteration # 5\n",
            "iteration # 6\n",
            "iteration # 7\n",
            "iteration # 8\n",
            "iteration # 9\n",
            "iteration # 10\n",
            "iteration # 11\n",
            "iteration # 12\n",
            "iteration # 13\n",
            "iteration # 14\n",
            "iteration # 15\n",
            "iteration # 16\n",
            "\n",
            "Mass =  1.374 Earth masses\n",
            "Radius =  1.086 Earth radii\n",
            "Core Mass Fraction =  35.40\n",
            "Core Radius Fraction =  54.21\n",
            "CMB Pressure =  185.71 GPa\n",
            "number of oceans: 0.00\n",
            "\n",
            "Detailed data file written to: high_wFEO_Radius_1.09.txt\n",
            "\n",
            "Figure(1200x1000)\n",
            "\n",
            "Core composition:  {'Fe': np.float64(100.0), 'Si': np.float64(0.0), 'O': np.float64(0.0), 'S': np.float64(0.0)}\n",
            "Mantle composition:  {'FeO': np.float64(0.0), 'SiO2': np.float64(52.61031601), 'MgO': np.float64(39.12532237), 'CaO': np.float64(3.81048804), 'Al2O3': np.float64(4.45387358)}\n",
            "Mantle Fe# -0.0\n",
            "Core Mass Percent =  35.267\n",
            "\n",
            "Your closest grid filename is:  0.07CaMg_0.00FeMg_0.09AlMg_0.9SiMg_0.0NaMg_0.00Fe_U/LM_results.txt\n",
            "\n",
            "\n",
            "Core composition:  {'Fe': np.float64(100.0), 'Si': np.float64(0.0), 'O': np.float64(0.0), 'S': np.float64(0.0)}\n",
            "Mantle composition:  {'FeO': np.float64(0.0), 'SiO2': np.float64(52.61031601), 'MgO': np.float64(39.12532237), 'CaO': np.float64(3.81048804), 'Al2O3': np.float64(4.45387358)}\n",
            "Mantle Fe# -0.0\n",
            "Core Mass Percent =  35.267\n",
            "\n",
            "The Upper mantle .tab already exists, please wait briefly for solution\n",
            "\n",
            "../Solutions_Small/0.07CaMg_0.00FeMg_0.09AlMg_0.9SiMg_0.0NaMg_0.00Fe\n",
            "The Lower mantle .tab already exists, please wait briefly for solution\n",
            "\n",
            "iteration # 1\n",
            "iteration # 2\n",
            "iteration # 3\n",
            "iteration # 4\n",
            "iteration # 5\n",
            "iteration # 6\n",
            "iteration # 7\n",
            "iteration # 8\n",
            "iteration # 9\n",
            "iteration # 10\n",
            "iteration # 11\n",
            "iteration # 12\n",
            "iteration # 13\n",
            "iteration # 14\n",
            "iteration # 15\n",
            "iteration # 16\n",
            "\n",
            "Mass =  1.443 Earth masses\n",
            "Radius =  1.101 Earth radii\n",
            "Core Mass Fraction =  35.40\n",
            "Core Radius Fraction =  54.14\n",
            "CMB Pressure =  194.46 GPa\n",
            "number of oceans: 0.00\n",
            "\n",
            "Detailed data file written to: high_wFEO_Radius_1.10.txt\n",
            "\n",
            "Figure(1200x1000)\n"
          ]
        }
      ]
    },
    {
      "cell_type": "code",
      "source": [
        "import numpy as np\n",
        "\n",
        "# Constants\n",
        "earth_mass_kg = 5.972e24      # kg\n",
        "earth_radius_m = 6.371e6      # meters\n",
        "\n",
        "# Masses and Radii from your ExoPlex results\n",
        "masses_earth = [1.305, 1.374, 1.443]\n",
        "radii_earth = [1.071, 1.086, 1.101]\n",
        "\n",
        "# Convert to SI units\n",
        "masses_kg = [m * earth_mass_kg for m in masses_earth]\n",
        "radii_m = [r * earth_radius_m for r in radii_earth]\n",
        "\n",
        "# Calculate densities (kg/m³)\n",
        "densities = [mass / ((4/3) * np.pi * radius**3) for mass, radius in zip(masses_kg, radii_m)]\n",
        "\n",
        "# Print results as a table\n",
        "print(\"Mass (M🜨) | Radius (R🜨) | Density (kg/m³)\")\n",
        "for m, r, d in zip(masses_earth, radii_earth, densities):\n",
        "    print(f\"{m:<10} | {r:<12} | {d:.2f}\")\n"
      ],
      "metadata": {
        "colab": {
          "base_uri": "https://localhost:8080/"
        },
        "id": "gDgs1AW9xf3N",
        "outputId": "a5421582-a597-4182-adfa-a3679b106cd9"
      },
      "execution_count": null,
      "outputs": [
        {
          "output_type": "stream",
          "name": "stdout",
          "text": [
            "Mass (M🜨) | Radius (R🜨) | Density (kg/m³)\n",
            "1.305      | 1.071        | 5856.67\n",
            "1.374      | 1.086        | 5914.33\n",
            "1.443      | 1.101        | 5960.91\n"
          ]
        }
      ]
    },
    {
      "cell_type": "markdown",
      "source": [
        "## **TASK #4**"
      ],
      "metadata": {
        "id": "SGckmBtNzirE"
      }
    },
    {
      "cell_type": "code",
      "source": [
        "# adjust FeMg and SiMg to get actual radius of 1.116 Earth Radius\n",
        "\n",
        "# let's first less iron to hopefully make a bigger radius\n",
        "# original FeMg = 1.005\n",
        "# using calculated SiMg = 0.902\n",
        "\n",
        "!python Group_X.py --mass=1.374 --FeMg=0.60 --SiMg=0.902"
      ],
      "metadata": {
        "colab": {
          "base_uri": "https://localhost:8080/"
        },
        "id": "k61hAKv9zBAM",
        "outputId": "7f6fb22a-2a8e-4b57-df47-6f782068ce7c"
      },
      "execution_count": null,
      "outputs": [
        {
          "output_type": "stream",
          "name": "stdout",
          "text": [
            "\n",
            "Core composition:  {'Fe': np.float64(100.0), 'Si': np.float64(0.0), 'O': np.float64(0.0), 'S': np.float64(0.0)}\n",
            "Mantle composition:  {'FeO': np.float64(0.0), 'SiO2': np.float64(52.61031601), 'MgO': np.float64(39.12532237), 'CaO': np.float64(3.81048804), 'Al2O3': np.float64(4.45387358)}\n",
            "Mantle Fe# -0.0\n",
            "Core Mass Percent =  24.543\n",
            "\n",
            "Your closest grid filename is:  0.07CaMg_0.00FeMg_0.09AlMg_0.9SiMg_0.0NaMg_0.00Fe_U/LM_results.txt\n",
            "\n",
            "\n",
            "Core composition:  {'Fe': np.float64(100.0), 'Si': np.float64(0.0), 'O': np.float64(0.0), 'S': np.float64(0.0)}\n",
            "Mantle composition:  {'FeO': np.float64(0.0), 'SiO2': np.float64(52.61031601), 'MgO': np.float64(39.12532237), 'CaO': np.float64(3.81048804), 'Al2O3': np.float64(4.45387358)}\n",
            "Mantle Fe# -0.0\n",
            "Core Mass Percent =  24.543\n",
            "\n",
            "The Upper mantle .tab already exists, please wait briefly for solution\n",
            "\n",
            "../Solutions_Small/0.07CaMg_0.00FeMg_0.09AlMg_0.9SiMg_0.0NaMg_0.00Fe\n",
            "The Lower mantle .tab already exists, please wait briefly for solution\n",
            "\n",
            "iteration # 1\n",
            "iteration # 2\n",
            "iteration # 3\n",
            "iteration # 4\n",
            "iteration # 5\n",
            "iteration # 6\n",
            "iteration # 7\n",
            "iteration # 8\n",
            "iteration # 9\n",
            "iteration # 10\n",
            "iteration # 11\n",
            "iteration # 12\n",
            "iteration # 13\n",
            "iteration # 14\n",
            "iteration # 15\n",
            "\n",
            "Mass =  1.374 Earth masses\n",
            "Radius =  1.116 Earth radii\n",
            "Core Mass Fraction =  24.69\n",
            "Core Radius Fraction =  46.97\n",
            "CMB Pressure =  202.47 GPa\n",
            "number of oceans: 0.00\n",
            "\n",
            "Detailed data file written to: high_wFEO_Radius_1.12.txt\n",
            "\n",
            "Figure(1200x1000)\n"
          ]
        }
      ]
    },
    {
      "cell_type": "code",
      "source": [
        "# vary mol_frac_Fe_mantle\n",
        "#using calculated FeMg = 1.005\n",
        "#wt_frac_Si_core will just stay at 0\n",
        "\n",
        "# let's adjust mol_frac_Fe_mantle until we get radius 1.116 Earth radii\n",
        "\n",
        "\n",
        "!python Group_X.py --mass=1.374 --FeMg=1.005 --mol_frac_Fe_mantle=0.355 --wt_frac_Si_core=0.0 --SiMg=0.902"
      ],
      "metadata": {
        "colab": {
          "base_uri": "https://localhost:8080/"
        },
        "id": "cEj8P6-B0PX4",
        "outputId": "6ccf5966-7d6b-449e-cfa0-225585a8fb83"
      },
      "execution_count": null,
      "outputs": [
        {
          "output_type": "stream",
          "name": "stdout",
          "text": [
            "\n",
            "Core composition:  {'Fe': np.float64(100.0), 'Si': np.float64(0.0), 'O': np.float64(0.0), 'S': np.float64(0.0)}\n",
            "Mantle composition:  {'FeO': np.float64(19.92428905), 'SiO2': np.float64(42.12808458), 'MgO': np.float64(31.32988005), 'CaO': np.float64(3.05127539), 'Al2O3': np.float64(3.56647093)}\n",
            "Mantle Fe# 0.2629581175950325\n",
            "Core Mass Percent =  21.960\n",
            "\n",
            "Your closest grid filename is:  0.07CaMg_0.00FeMg_0.09AlMg_0.9SiMg_0.0NaMg_0.20Fe_U/LM_results.txt\n",
            "\n",
            "\n",
            "Core composition:  {'Fe': np.float64(100.0), 'Si': np.float64(0.0), 'O': np.float64(0.0), 'S': np.float64(0.0)}\n",
            "Mantle composition:  {'FeO': np.float64(19.92428905), 'SiO2': np.float64(42.12808458), 'MgO': np.float64(31.32988005), 'CaO': np.float64(3.05127539), 'Al2O3': np.float64(3.56647093)}\n",
            "Mantle Fe# 0.2629581175950325\n",
            "Core Mass Percent =  21.960\n",
            "\n",
            "The Upper mantle .tab already exists, please wait briefly for solution\n",
            "\n",
            "../Solutions_Small/0.07CaMg_0.00FeMg_0.09AlMg_0.9SiMg_0.0NaMg_0.20Fe\n",
            "The Lower mantle .tab already exists, please wait briefly for solution\n",
            "\n",
            "iteration # 1\n",
            "iteration # 2\n",
            "iteration # 3\n",
            "iteration # 4\n",
            "iteration # 5\n",
            "iteration # 6\n",
            "iteration # 7\n",
            "iteration # 8\n",
            "iteration # 9\n",
            "iteration # 10\n",
            "iteration # 11\n",
            "iteration # 12\n",
            "iteration # 13\n",
            "iteration # 14\n",
            "iteration # 15\n",
            "iteration # 16\n",
            "\n",
            "Mass =  1.374 Earth masses\n",
            "Radius =  1.093 Earth radii\n",
            "Core Mass Fraction =  22.12\n",
            "Core Radius Fraction =  46.03\n",
            "CMB Pressure =  223.64 GPa\n",
            "number of oceans: 0.00\n",
            "\n",
            "Detailed data file written to: high_wFEO_Radius_1.09.txt\n",
            "\n",
            "Figure(1200x1000)\n"
          ]
        }
      ]
    },
    {
      "cell_type": "code",
      "source": [
        "# varying wt_frac_Si_core\n",
        "\n",
        "#mass stays the same, FeMg = 1.005, mol_frac_Fe_mantle will be at default\n",
        "# I will omit mol_frac_Fe_mantle\n",
        "#SiMg = 0.902 is calculated\n",
        "\n",
        "\n",
        "!python Group_X.py --mass=1.374 --FeMg=1.005 --wt_frac_Si_core=0.105 --SiMg=0.902"
      ],
      "metadata": {
        "colab": {
          "base_uri": "https://localhost:8080/"
        },
        "id": "z2LrNpdn24G5",
        "outputId": "9fcf4b09-45ba-4655-c289-0a376341b0d8"
      },
      "execution_count": null,
      "outputs": [
        {
          "output_type": "stream",
          "name": "stdout",
          "text": [
            "\n",
            "Core composition:  {'Fe': np.float64(89.5), 'Si': np.float64(10.5), 'O': np.float64(0.0), 'S': np.float64(0.0)}\n",
            "Mantle composition:  {'FeO': np.float64(19.73638121), 'SiO2': np.float64(38.31585087), 'MgO': np.float64(34.63243061), 'CaO': np.float64(3.37291694), 'Al2O3': np.float64(3.94242037)}\n",
            "Mantle Fe# 0.24225719611313276\n",
            "Core Mass Percent =  26.869\n",
            "\n",
            "Your closest grid filename is:  0.07CaMg_0.00FeMg_0.09AlMg_0.7SiMg_0.0NaMg_0.20Fe_U/LM_results.txt\n",
            "\n",
            "\n",
            "Core composition:  {'Fe': np.float64(89.5), 'Si': np.float64(10.5), 'O': np.float64(0.0), 'S': np.float64(0.0)}\n",
            "Mantle composition:  {'FeO': np.float64(19.73638121), 'SiO2': np.float64(38.31585087), 'MgO': np.float64(34.63243061), 'CaO': np.float64(3.37291694), 'Al2O3': np.float64(3.94242037)}\n",
            "Mantle Fe# 0.24225719611313276\n",
            "Core Mass Percent =  26.869\n",
            "\n",
            "The Upper mantle .tab already exists, please wait briefly for solution\n",
            "\n",
            "../Solutions_Small/0.07CaMg_0.00FeMg_0.09AlMg_0.7SiMg_0.0NaMg_0.20Fe\n",
            "The Lower mantle .tab already exists, please wait briefly for solution\n",
            "\n",
            "iteration # 1\n",
            "iteration # 2\n",
            "iteration # 3\n",
            "iteration # 4\n",
            "iteration # 5\n",
            "iteration # 6\n",
            "iteration # 7\n",
            "iteration # 8\n",
            "iteration # 9\n",
            "iteration # 10\n",
            "iteration # 11\n",
            "iteration # 12\n",
            "iteration # 13\n",
            "iteration # 14\n",
            "iteration # 15\n",
            "\n",
            "Mass =  1.374 Earth masses\n",
            "Radius =  1.091 Earth radii\n",
            "Core Mass Fraction =  27.02\n",
            "Core Radius Fraction =  51.30\n",
            "CMB Pressure =  198.51 GPa\n",
            "number of oceans: 0.00\n",
            "\n",
            "Detailed data file written to: high_wFEO_Radius_1.09.txt\n",
            "\n",
            "Figure(1200x1000)\n"
          ]
        }
      ]
    },
    {
      "cell_type": "code",
      "source": [
        "# varying SiMg\n",
        "# mass stays the same, FeMg is what was calculated, omit the others?\n",
        "\n",
        "!python Group_X.py --mass=1.374 --FeMg=1.005 --SiMg=2.0"
      ],
      "metadata": {
        "colab": {
          "base_uri": "https://localhost:8080/"
        },
        "id": "rzF-yP3c87jA",
        "outputId": "12d91a75-5de7-4053-e0e7-380cff05f19a"
      },
      "execution_count": null,
      "outputs": [
        {
          "output_type": "stream",
          "name": "stdout",
          "text": [
            "\n",
            "Core composition:  {'Fe': np.float64(100.0), 'Si': np.float64(0.0), 'O': np.float64(0.0), 'S': np.float64(0.0)}\n",
            "Mantle composition:  {'FeO': np.float64(0.0), 'SiO2': np.float64(71.111297), 'MgO': np.float64(23.85075659), 'CaO': np.float64(2.32286962), 'Al2O3': np.float64(2.71507679)}\n",
            "Mantle Fe# -0.0\n",
            "Core Mass Percent =  24.931\n",
            "\n",
            "Your closest grid filename is:  0.07CaMg_0.00FeMg_0.09AlMg_2.0SiMg_0.0NaMg_0.00Fe_U/LM_results.txt\n",
            "\n",
            "\n",
            "Core composition:  {'Fe': np.float64(100.0), 'Si': np.float64(0.0), 'O': np.float64(0.0), 'S': np.float64(0.0)}\n",
            "Mantle composition:  {'FeO': np.float64(0.0), 'SiO2': np.float64(71.111297), 'MgO': np.float64(23.85075659), 'CaO': np.float64(2.32286962), 'Al2O3': np.float64(2.71507679)}\n",
            "Mantle Fe# -0.0\n",
            "Core Mass Percent =  24.931\n",
            "\n",
            "The Upper mantle .tab already exists, please wait briefly for solution\n",
            "\n",
            "../Solutions_Small/0.07CaMg_0.00FeMg_0.09AlMg_2.0SiMg_0.0NaMg_0.00Fe\n",
            "The Lower mantle .tab already exists, please wait briefly for solution\n",
            "\n",
            "iteration # 1\n",
            "iteration # 2\n",
            "iteration # 3\n",
            "iteration # 4\n",
            "iteration # 5\n",
            "iteration # 6\n",
            "iteration # 7\n",
            "iteration # 8\n",
            "iteration # 9\n",
            "iteration # 10\n",
            "iteration # 11\n",
            "iteration # 12\n",
            "iteration # 13\n",
            "iteration # 14\n",
            "iteration # 15\n",
            "\n",
            "Mass =  1.374 Earth masses\n",
            "Radius =  1.110 Earth radii\n",
            "Core Mass Fraction =  25.08\n",
            "Core Radius Fraction =  47.44\n",
            "CMB Pressure =  204.56 GPa\n",
            "number of oceans: 0.00\n",
            "\n",
            "Detailed data file written to: high_wFEO_Radius_1.11.txt\n",
            "\n",
            "Figure(1200x1000)\n"
          ]
        }
      ]
    },
    {
      "cell_type": "code",
      "source": [],
      "metadata": {
        "colab": {
          "base_uri": "https://localhost:8080/"
        },
        "id": "lcimpSQZ9Lgc",
        "outputId": "9951f636-1362-42ce-a7f1-e2cc27138d90"
      },
      "execution_count": null,
      "outputs": [
        {
          "output_type": "stream",
          "name": "stdout",
          "text": [
            "\n",
            "Core composition:  {'Fe': np.float64(58.0), 'Si': np.float64(10.0), 'O': np.float64(10.0), 'S': np.float64(22.0)}\n",
            "Mantle composition:  {'FeO': np.float64(19.9723457), 'SiO2': np.float64(35.96130594), 'MgO': np.float64(36.38154847), 'CaO': np.float64(3.54326679), 'Al2O3': np.float64(4.1415331)}\n",
            "Mantle Fe# 0.23546053097345127\n",
            "Core Mass Percent =  37.725\n",
            "\n",
            "Your closest grid filename is:  0.07CaMg_0.00FeMg_0.09AlMg_0.7SiMg_0.0NaMg_0.20Fe_U/LM_results.txt\n",
            "\n",
            "\n",
            "Core composition:  {'Fe': np.float64(58.0), 'Si': np.float64(10.0), 'O': np.float64(10.0), 'S': np.float64(22.0)}\n",
            "Mantle composition:  {'FeO': np.float64(19.9723457), 'SiO2': np.float64(35.96130594), 'MgO': np.float64(36.38154847), 'CaO': np.float64(3.54326679), 'Al2O3': np.float64(4.1415331)}\n",
            "Mantle Fe# 0.23546053097345127\n",
            "Core Mass Percent =  37.725\n",
            "\n",
            "The Upper mantle .tab already exists, please wait briefly for solution\n",
            "\n",
            "../Solutions_Small/0.07CaMg_0.00FeMg_0.09AlMg_0.7SiMg_0.0NaMg_0.20Fe\n",
            "The Lower mantle .tab already exists, please wait briefly for solution\n",
            "\n",
            "iteration # 1\n",
            "iteration # 2\n",
            "iteration # 3\n",
            "iteration # 4\n",
            "iteration # 5\n",
            "iteration # 6\n",
            "iteration # 7\n",
            "iteration # 8\n",
            "iteration # 9\n",
            "iteration # 10\n",
            "iteration # 11\n",
            "iteration # 12\n",
            "iteration # 13\n",
            "iteration # 14\n",
            "iteration # 15\n",
            "\n",
            "Mass =  1.374 Earth masses\n",
            "Radius =  1.111 Earth radii\n",
            "Core Mass Fraction =  37.85\n",
            "Core Radius Fraction =  64.49\n",
            "CMB Pressure =  128.34 GPa\n",
            "number of oceans: 0.00\n",
            "\n",
            "Detailed data file written to: high_wFEO_Radius_1.11.txt\n",
            "\n",
            "Figure(1200x1000)\n"
          ]
        }
      ]
    },
    {
      "cell_type": "markdown",
      "source": [
        "Yay last project is done!!"
      ],
      "metadata": {
        "id": "kpzkOjRVWk30"
      }
    },
    {
      "cell_type": "code",
      "source": [],
      "metadata": {
        "id": "IJKdY0M-WmeA"
      },
      "execution_count": null,
      "outputs": []
    }
  ],
  "metadata": {
    "colab": {
      "provenance": [],
      "include_colab_link": true
    },
    "kernelspec": {
      "display_name": "Python 3",
      "name": "python3"
    },
    "language_info": {
      "name": "python"
    }
  },
  "nbformat": 4,
  "nbformat_minor": 0
}
